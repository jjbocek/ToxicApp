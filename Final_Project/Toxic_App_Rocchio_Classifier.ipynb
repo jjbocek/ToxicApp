{
 "cells": [
  {
   "cell_type": "markdown",
   "source": [
    "# A Toxic Comment Identifier Application - Rocchio Classifier\n",
    "\n",
    "This notebook contains all methods related to creating and tuning the model for the Rocchio Classifier.  This notebook was mostly use for tuning the Doc2Vec model in the Toxic_App_Doc2Vec.ipynb notebook."
   ],
   "metadata": {
    "collapsed": false
   }
  },
  {
   "cell_type": "code",
   "execution_count": 5,
   "outputs": [],
   "source": [
    "import numpy as np"
   ],
   "metadata": {
    "collapsed": false
   }
  },
  {
   "cell_type": "markdown",
   "source": [
    "### Methods for Custom Rocchio Classifier\n",
    "\n",
    "Below are methods to use the Rocchio Classifier."
   ],
   "metadata": {
    "collapsed": false
   }
  },
  {
   "cell_type": "code",
   "execution_count": 3,
   "outputs": [],
   "source": [
    "# helper function to get the number of classes\n",
    "def get_number_of_classes(classes):\n",
    "    return len(np.unique(classes))\n",
    "\n",
    "\"\"\"A Custom Training Function for the Rocchio Classification Algorithm\n",
    ":param data: an np array of the training data formatted as a doc-term frequency matrix,\n",
    "a ttd*idf matrix or else a doc2vec vector matrix\n",
    ":param labels: an np array of the corresponding labels for the data\n",
    ":returns: the prototype vectors for each class (a.k.a. label)\n",
    "\"\"\"\n",
    "def rocchio_train(train, labels):\n",
    "    # the prototype will be a dictionary with unique class labels as keys and on dimensional arrays representing\n",
    "    # the prototype.\n",
    "    prototype = {}\n",
    "    num_labels = get_number_of_classes(labels)\n",
    "    #print(\"The number of classes:\" + str(num_labels))\n",
    "\n",
    "    # add each class to the prototype dictionary\n",
    "    # the class is the key\n",
    "    # a one dimensional array equal to the length of a term vector array is initialized with all 0s\n",
    "    for label in labels:\n",
    "        term_vector_array = np.zeros(np.shape(len(train[0])), dtype=float)\n",
    "        prototype[label] = term_vector_array\n",
    "\n",
    "    length = len(train)\n",
    "    for i in range(length):\n",
    "        # first figure out which class this entry belongs to\n",
    "        label = labels[i]\n",
    "\n",
    "        # next sum up the entire document term vector\n",
    "        prototype[label] = prototype.get(label) + np.array(train[i])\n",
    "\n",
    "    return prototype\n",
    "\n",
    "\"\"\"A Classifier Function for the Rocchio Classification Algorithm\n",
    "This function uses cosine similarity for the distance metric\n",
    ":param data: a dictionary of prototype vectors where the class is a key and the value is the vector\n",
    "for the corresponding class.\n",
    ":param instance: the test instance to classify\n",
    ":returns: the predicted class\n",
    "\"\"\"\n",
    "def rocchio_classifier(prototype, test_instance):\n",
    "    m = -2\n",
    "    predicted_class = -1  # intialize the predicted class to -1 by default\n",
    "    for classLabel in prototype:\n",
    "        # (compute similarity to prototype vector)\n",
    "        # use cosine similarity\n",
    "        # cosine distance is 1 - (dot product / L2 norm)\n",
    "        term_vector = prototype[classLabel]\n",
    "        prototype_norm = np.array([np.linalg.norm(term_vector) for i in range(len(term_vector))])\n",
    "        test_instance_norm = np.linalg.norm(test_instance)\n",
    "\n",
    "        sims = np.dot(term_vector, test_instance) / (prototype_norm * test_instance_norm)\n",
    "\n",
    "        # get the maximum cosSim\n",
    "        max_cos_sim = np.max(sims)\n",
    "\n",
    "        if max_cos_sim > m:\n",
    "            m = max_cos_sim\n",
    "            predicted_class = classLabel\n",
    "\n",
    "    return predicted_class\n",
    "\n",
    "\"\"\"An Evaluation Function for the Rocchio Classification Algorithm\n",
    ":param test_data: an np array of the test data formatted as a doc-term frequency matrix,\n",
    "a ttd*idf matrix or else a doc2vec vector matrix\n",
    ":param test_labels: an np array of the corresponding labels for the data\n",
    ":param prototype: a dictionary of prototype vectors to use for classification\n",
    ":returns: the accuracy of the model\n",
    "\"\"\"\n",
    "def rocchio_evaluate(test_data, test_labels, prototype):\n",
    "    num_correct = 0\n",
    "\n",
    "    # iterate through the test instances and call the rocchio classifier\n",
    "    test_data_len = len(test_data)\n",
    "    for i in range(test_data_len):\n",
    "        predicted_label = rocchio_classifier(prototype, test_data[i])\n",
    "        test_label = test_labels[i]\n",
    "        #print(\"Predicted Label:\" + str(predicted_label) + \" \" + \"Test Label:\" + str(test_labels[i]))\n",
    "        if predicted_label == test_label:\n",
    "            num_correct = num_correct + 1\n",
    "    accuracy = (num_correct / test_data_len * 100.0)\n",
    "    print(\"Rocchio classifier - Number of test instances classified correctly:\" + str(\n",
    "        num_correct) + \" Percent Accuracy: \" + str(accuracy))"
   ],
   "metadata": {
    "collapsed": false
   }
  },
  {
   "cell_type": "markdown",
   "source": [
    "### Custom Doc2Vec Parameter Tuning"
   ],
   "metadata": {
    "collapsed": false
   }
  },
  {
   "cell_type": "code",
   "execution_count": 4,
   "outputs": [
    {
     "name": "stdout",
     "output_type": "stream",
     "text": [
      "[{'dm': 0, 'vector_size': 500, 'window': 2, 'hs': 1, 'negative': 0}, {'dm': 0, 'vector_size': 500, 'window': 5, 'hs': 1, 'negative': 0}, {'dm': 0, 'vector_size': 1000, 'window': 2, 'hs': 1, 'negative': 0}, {'dm': 0, 'vector_size': 1000, 'window': 5, 'hs': 1, 'negative': 0}, {'dm': 1, 'vector_size': 500, 'window': 2, 'hs': 1, 'negative': 0}, {'dm': 1, 'vector_size': 500, 'window': 5, 'hs': 1, 'negative': 0}, {'dm': 1, 'vector_size': 1000, 'window': 2, 'hs': 1, 'negative': 0}, {'dm': 1, 'vector_size': 1000, 'window': 5, 'hs': 1, 'negative': 0}]\n"
     ]
    }
   ],
   "source": [
    "import itertools\n",
    "dm = [0, 1]\n",
    "vector_size = [500, 1000]\n",
    "window = [2,5]\n",
    "hs = [1]\n",
    "paramsList = [{'dm': item[0],\n",
    "               'vector_size': item[1],\n",
    "               'window': item[2],\n",
    "               'hs': 1,\n",
    "               'negative': 0\n",
    "               } for item in\n",
    "                 list(itertools.product(*[dm,\n",
    "                                          vector_size,\n",
    "                                          window,\n",
    "                                          hs]))\n",
    "              ]\n",
    "\n",
    "#print(paramsList)"
   ],
   "metadata": {
    "collapsed": false
   }
  },
  {
   "cell_type": "code",
   "execution_count": 14,
   "outputs": [
    {
     "name": "stdout",
     "output_type": "stream",
     "text": [
      "Evaluating {'dm': 0, 'vector_size': 500, 'window': 2, 'hs': 1, 'negative': 0}\n",
      "Nearest Centroid classifier - Number of test instances classified correctly:957 Percent Accuracy: 63.12664907651715\n",
      "Evaluating {'dm': 0, 'vector_size': 500, 'window': 5, 'hs': 1, 'negative': 0}\n",
      "Nearest Centroid classifier - Number of test instances classified correctly:955 Percent Accuracy: 62.99472295514512\n",
      "Evaluating {'dm': 0, 'vector_size': 1000, 'window': 2, 'hs': 1, 'negative': 0}\n",
      "Nearest Centroid classifier - Number of test instances classified correctly:959 Percent Accuracy: 63.25857519788918\n",
      "Evaluating {'dm': 0, 'vector_size': 1000, 'window': 5, 'hs': 1, 'negative': 0}\n",
      "Nearest Centroid classifier - Number of test instances classified correctly:958 Percent Accuracy: 63.19261213720316\n"
     ]
    },
    {
     "data": {
      "text/plain": "[]"
     },
     "execution_count": 14,
     "metadata": {},
     "output_type": "execute_result"
    }
   ],
   "source": [
    "# from gensim.models import doc2vec\n",
    "# import pickle\n",
    "# import numpy as np\n",
    "# import pandas as pd\n",
    "#\n",
    "# #%run Doc2Vec.ipynb\n",
    "#\n",
    "# file_object = open('clean_data1.p', 'rb')\n",
    "# clean_data = pickle.load(file_object)\n",
    "# train_ds = clean_data[0]\n",
    "# test_ds = clean_data[1]\n",
    "#\n",
    "# #pre-process the corpus\n",
    "# train_comments_df = train_ds['comment_text']\n",
    "# test_comments_df = test_ds['comment_text']\n",
    "# train_labels_df = train_ds['toxicity_level']\n",
    "# test_labels_df = test_ds['toxicity_level']\n",
    "#\n",
    "# def evaluateDoc2VecParams():\n",
    "#     # Tag docs\n",
    "#     train_tokenized_comments = tokenize_comments(train_ds['comment_text'])\n",
    "#     train_tagged_documents = get_tagged_documents(train_tokenized_comments)\n",
    "#     scoreList = []\n",
    "#     for param in paramsList:\n",
    "#       print(\"Evaluating \"+str(param))\n",
    "#       try:\n",
    "#         d2v_model = doc2vec.Doc2Vec(train_tagged_documents,\n",
    "#                         dm=param['dm'],\n",
    "#                         vector_size=param['vector_size'],\n",
    "#                         window=param['window'],\n",
    "#                         min_count=1,\n",
    "#                         epochs=10,\n",
    "#                         hs=param['hs'],\n",
    "#                         seed=516)\n",
    "#         train_vectors = get_doc2vec_vectors(d2v_model,train_comments_df)\n",
    "#\n",
    "#         tokenized_test_comments = tokenize_comments(test_comments_df)\n",
    "#         test_vectors = infer_vectors(d2v_model, tokenized_test_comments, \"\")\n",
    "#\n",
    "#         train_labels = np.array(train_labels_df)\n",
    "#\n",
    "#         #classify test data using prototype vectors\n",
    "#         test_labels = np.array(test_labels_df)\n",
    "#\n",
    "#         rocchio_classifier_nearest_centroid(train_vectors, train_labels, test_vectors, test_labels)\n",
    "#         # generate the prototype vectors\n",
    "#         #prototype_vectors = rocchio_train(train_vectors, train_labels)\n",
    "#\n",
    "#         #classify test data using prototype vectors\n",
    "#         #rocchio_evaluate(test_vectors, test_labels, prototype_vectors)\n",
    "#       except Exception as error:\n",
    "#         print(f'Cannot evaluate model with parameters {param} because of error: {error}')\n",
    "#         continue\n",
    "#     return scoreList\n",
    "#\n",
    "# evaluateDoc2VecParams()\n"
   ],
   "metadata": {
    "collapsed": false
   }
  }
 ],
 "metadata": {
  "kernelspec": {
   "display_name": "Python 3",
   "language": "python",
   "name": "python3"
  },
  "language_info": {
   "codemirror_mode": {
    "name": "ipython",
    "version": 2
   },
   "file_extension": ".py",
   "mimetype": "text/x-python",
   "name": "python",
   "nbconvert_exporter": "python",
   "pygments_lexer": "ipython2",
   "version": "2.7.6"
  }
 },
 "nbformat": 4,
 "nbformat_minor": 0
}
