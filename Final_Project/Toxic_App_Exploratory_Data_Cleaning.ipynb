{
 "cells": [
  {
   "attachments": {},
   "cell_type": "markdown",
   "metadata": {},
   "source": [
    "# Toxic App - DSC478 Final Project"
   ]
  },
  {
   "attachments": {},
   "cell_type": "markdown",
   "metadata": {},
   "source": [
    "#### Authors: *Jeffrey Bocek, Xuyang Ji & Anna-Lisa Vu*"
   ]
  },
  {
   "attachments": {},
   "cell_type": "markdown",
   "metadata": {},
   "source": [
    "## Project Overview \n",
    "\n",
    "Unfortunately, having conversation about topics one cares about can be challenging under some scenerios, such as the threat of online abuse and harassment. Those insecure online environment not only causes many individuals to refrain from expressing themselves and seeking diverse opinions; but also has led to various platforms struggling to effectively facilitate discussions, resulting in many communities limiting or forcing shutting down user comment sections.\n",
    "\n",
    "\n",
    "With a goal to foster healthier online communities by addressing the issue, our team worked on developing a Python application focuses on comment toxicity detection. The app can be used as a third-party library or extension for social media sites or public sites where users are allowed to leave comments. With various clustering and predictive models stored in the backend, the app allows users to detect the toxicity level of specific queries, and revise them for maintaining a more respectful online community. "
   ]
  },
  {
   "attachments": {},
   "cell_type": "markdown",
   "metadata": {},
   "source": [
    "## Dataset Description\n",
    "The provided dataset contains a large number of Wikipedia comments which have been labeled by human raters for toxic behavior, such as toxic, severe toxic, obscene, threat, insult and identity hate. "
   ]
  },
  {
   "attachments": {},
   "cell_type": "markdown",
   "metadata": {},
   "source": [
    "#### Libraries"
   ]
  },
  {
   "cell_type": "code",
   "execution_count": 26,
   "metadata": {},
   "outputs": [
    {
     "name": "stderr",
     "output_type": "stream",
     "text": [
      "[nltk_data] Downloading package stopwords to\n",
      "[nltk_data]     /Users/celine/nltk_data...\n",
      "[nltk_data]   Package stopwords is already up-to-date!\n",
      "[nltk_data] Downloading package wordnet to /Users/celine/nltk_data...\n",
      "[nltk_data]   Package wordnet is already up-to-date!\n",
      "[nltk_data] Downloading package punkt to /Users/celine/nltk_data...\n",
      "[nltk_data]   Package punkt is already up-to-date!\n"
     ]
    }
   ],
   "source": [
    "import numpy as np # linear algebra\n",
    "import pandas as pd # data processing, CSV file I/O (e.g. pd.read_csv)\n",
    "import matplotlib.pyplot as plt\n",
    "%matplotlib inline\n",
    "import seaborn as sns\n",
    "import random\n",
    "import operator #for sorting \n",
    "from sklearn import preprocessing # for normalization \n",
    "from collections import Counter #finding the majority \n",
    "\n",
    "#Text Preprocessing \n",
    "import re # for number removal \n",
    "import string # for punctutation removal \n",
    "\n",
    "import nltk \n",
    "## for stopword removal\n",
    "from nltk.corpus import stopwords\n",
    "nltk.download('stopwords')\n",
    "stopWords= stopwords.words('english')\n",
    "## lemmatization \n",
    "from nltk.stem.porter import PorterStemmer\n",
    "from nltk.stem import WordNetLemmatizer\n",
    "nltk.download('wordnet')\n",
    "nltk.download('punkt')\n",
    "lemmatizer= WordNetLemmatizer()\n",
    "from nltk.tokenize import word_tokenize\n",
    "\n",
    "import pickle  #save variables to file"
   ]
  },
  {
   "cell_type": "code",
   "execution_count": 27,
   "metadata": {},
   "outputs": [
    {
     "data": {
      "text/html": [
       "<div>\n",
       "<style scoped>\n",
       "    .dataframe tbody tr th:only-of-type {\n",
       "        vertical-align: middle;\n",
       "    }\n",
       "\n",
       "    .dataframe tbody tr th {\n",
       "        vertical-align: top;\n",
       "    }\n",
       "\n",
       "    .dataframe thead th {\n",
       "        text-align: right;\n",
       "    }\n",
       "</style>\n",
       "<table border=\"1\" class=\"dataframe\">\n",
       "  <thead>\n",
       "    <tr style=\"text-align: right;\">\n",
       "      <th></th>\n",
       "      <th>toxic</th>\n",
       "      <th>severe_toxic</th>\n",
       "      <th>obscene</th>\n",
       "      <th>threat</th>\n",
       "      <th>insult</th>\n",
       "      <th>identity_hate</th>\n",
       "    </tr>\n",
       "  </thead>\n",
       "  <tbody>\n",
       "    <tr>\n",
       "      <th>count</th>\n",
       "      <td>159571.000000</td>\n",
       "      <td>159571.000000</td>\n",
       "      <td>159571.000000</td>\n",
       "      <td>159571.000000</td>\n",
       "      <td>159571.000000</td>\n",
       "      <td>159571.000000</td>\n",
       "    </tr>\n",
       "    <tr>\n",
       "      <th>mean</th>\n",
       "      <td>0.095844</td>\n",
       "      <td>0.009996</td>\n",
       "      <td>0.052948</td>\n",
       "      <td>0.002996</td>\n",
       "      <td>0.049364</td>\n",
       "      <td>0.008805</td>\n",
       "    </tr>\n",
       "    <tr>\n",
       "      <th>std</th>\n",
       "      <td>0.294379</td>\n",
       "      <td>0.099477</td>\n",
       "      <td>0.223931</td>\n",
       "      <td>0.054650</td>\n",
       "      <td>0.216627</td>\n",
       "      <td>0.093420</td>\n",
       "    </tr>\n",
       "    <tr>\n",
       "      <th>min</th>\n",
       "      <td>0.000000</td>\n",
       "      <td>0.000000</td>\n",
       "      <td>0.000000</td>\n",
       "      <td>0.000000</td>\n",
       "      <td>0.000000</td>\n",
       "      <td>0.000000</td>\n",
       "    </tr>\n",
       "    <tr>\n",
       "      <th>25%</th>\n",
       "      <td>0.000000</td>\n",
       "      <td>0.000000</td>\n",
       "      <td>0.000000</td>\n",
       "      <td>0.000000</td>\n",
       "      <td>0.000000</td>\n",
       "      <td>0.000000</td>\n",
       "    </tr>\n",
       "    <tr>\n",
       "      <th>50%</th>\n",
       "      <td>0.000000</td>\n",
       "      <td>0.000000</td>\n",
       "      <td>0.000000</td>\n",
       "      <td>0.000000</td>\n",
       "      <td>0.000000</td>\n",
       "      <td>0.000000</td>\n",
       "    </tr>\n",
       "    <tr>\n",
       "      <th>75%</th>\n",
       "      <td>0.000000</td>\n",
       "      <td>0.000000</td>\n",
       "      <td>0.000000</td>\n",
       "      <td>0.000000</td>\n",
       "      <td>0.000000</td>\n",
       "      <td>0.000000</td>\n",
       "    </tr>\n",
       "    <tr>\n",
       "      <th>max</th>\n",
       "      <td>1.000000</td>\n",
       "      <td>1.000000</td>\n",
       "      <td>1.000000</td>\n",
       "      <td>1.000000</td>\n",
       "      <td>1.000000</td>\n",
       "      <td>1.000000</td>\n",
       "    </tr>\n",
       "  </tbody>\n",
       "</table>\n",
       "</div>"
      ],
      "text/plain": [
       "               toxic   severe_toxic        obscene         threat  \\\n",
       "count  159571.000000  159571.000000  159571.000000  159571.000000   \n",
       "mean        0.095844       0.009996       0.052948       0.002996   \n",
       "std         0.294379       0.099477       0.223931       0.054650   \n",
       "min         0.000000       0.000000       0.000000       0.000000   \n",
       "25%         0.000000       0.000000       0.000000       0.000000   \n",
       "50%         0.000000       0.000000       0.000000       0.000000   \n",
       "75%         0.000000       0.000000       0.000000       0.000000   \n",
       "max         1.000000       1.000000       1.000000       1.000000   \n",
       "\n",
       "              insult  identity_hate  \n",
       "count  159571.000000  159571.000000  \n",
       "mean        0.049364       0.008805  \n",
       "std         0.216627       0.093420  \n",
       "min         0.000000       0.000000  \n",
       "25%         0.000000       0.000000  \n",
       "50%         0.000000       0.000000  \n",
       "75%         0.000000       0.000000  \n",
       "max         1.000000       1.000000  "
      ]
     },
     "execution_count": 27,
     "metadata": {},
     "output_type": "execute_result"
    }
   ],
   "source": [
    "train_df = pd.read_csv('/Users/celine/Documents/ToxicComment/ToxicApp/train.csv')\n",
    "test_comments = pd.read_csv('/Users/celine/Documents/ToxicComment/ToxicApp/test.csv')\n",
    "test_lab= pd.read_csv('/Users/celine/Documents/ToxicComment/ToxicApp/test_labels.csv',header=0, na_values=-1)\n",
    "train_df.describe()"
   ]
  },
  {
   "cell_type": "code",
   "execution_count": 28,
   "metadata": {},
   "outputs": [
    {
     "data": {
      "text/html": [
       "<div>\n",
       "<style scoped>\n",
       "    .dataframe tbody tr th:only-of-type {\n",
       "        vertical-align: middle;\n",
       "    }\n",
       "\n",
       "    .dataframe tbody tr th {\n",
       "        vertical-align: top;\n",
       "    }\n",
       "\n",
       "    .dataframe thead th {\n",
       "        text-align: right;\n",
       "    }\n",
       "</style>\n",
       "<table border=\"1\" class=\"dataframe\">\n",
       "  <thead>\n",
       "    <tr style=\"text-align: right;\">\n",
       "      <th></th>\n",
       "      <th>id</th>\n",
       "      <th>comment_text</th>\n",
       "      <th>toxic</th>\n",
       "      <th>severe_toxic</th>\n",
       "      <th>obscene</th>\n",
       "      <th>threat</th>\n",
       "      <th>insult</th>\n",
       "      <th>identity_hate</th>\n",
       "    </tr>\n",
       "  </thead>\n",
       "  <tbody>\n",
       "    <tr>\n",
       "      <th>0</th>\n",
       "      <td>00001cee341fdb12</td>\n",
       "      <td>Yo bitch Ja Rule is more succesful then you'll...</td>\n",
       "      <td>NaN</td>\n",
       "      <td>NaN</td>\n",
       "      <td>NaN</td>\n",
       "      <td>NaN</td>\n",
       "      <td>NaN</td>\n",
       "      <td>NaN</td>\n",
       "    </tr>\n",
       "    <tr>\n",
       "      <th>1</th>\n",
       "      <td>0000247867823ef7</td>\n",
       "      <td>== From RfC == \\n\\n The title is fine as it is...</td>\n",
       "      <td>NaN</td>\n",
       "      <td>NaN</td>\n",
       "      <td>NaN</td>\n",
       "      <td>NaN</td>\n",
       "      <td>NaN</td>\n",
       "      <td>NaN</td>\n",
       "    </tr>\n",
       "    <tr>\n",
       "      <th>2</th>\n",
       "      <td>00013b17ad220c46</td>\n",
       "      <td>\" \\n\\n == Sources == \\n\\n * Zawe Ashton on Lap...</td>\n",
       "      <td>NaN</td>\n",
       "      <td>NaN</td>\n",
       "      <td>NaN</td>\n",
       "      <td>NaN</td>\n",
       "      <td>NaN</td>\n",
       "      <td>NaN</td>\n",
       "    </tr>\n",
       "  </tbody>\n",
       "</table>\n",
       "</div>"
      ],
      "text/plain": [
       "                 id                                       comment_text  toxic  \\\n",
       "0  00001cee341fdb12  Yo bitch Ja Rule is more succesful then you'll...    NaN   \n",
       "1  0000247867823ef7  == From RfC == \\n\\n The title is fine as it is...    NaN   \n",
       "2  00013b17ad220c46  \" \\n\\n == Sources == \\n\\n * Zawe Ashton on Lap...    NaN   \n",
       "\n",
       "   severe_toxic  obscene  threat  insult  identity_hate  \n",
       "0           NaN      NaN     NaN     NaN            NaN  \n",
       "1           NaN      NaN     NaN     NaN            NaN  \n",
       "2           NaN      NaN     NaN     NaN            NaN  "
      ]
     },
     "execution_count": 28,
     "metadata": {},
     "output_type": "execute_result"
    }
   ],
   "source": [
    "test_df = pd.merge(test_comments, test_lab, on=\"id\")\n",
    "test_df.head(3)"
   ]
  },
  {
   "attachments": {},
   "cell_type": "markdown",
   "metadata": {},
   "source": [
    "#### Class Imbalance \n",
    "The dataset comprises 159,571 comments from Wikipedia, with each comment consisting of a string data input feature and six labels that categorize the comment as toxic, severe_toxic, obscene, threat, insult, or identity_hate. The following figure shows how these labels are distributed throughout the dataset, including multilabelled data. Although there is no missing value in the training dataset; however, based on the fact that the mean values are extremely low, it can be inferred that the majority of the comments are likely to be clean/non-toxic comments. In other words, the toxicity is not evenly distributed across classes, and class imbalance is present. Upon investigation, the clean comment ratio in training set is 89.8%, while there are 58.2% of clean comments in the test set. \n",
    "\n",
    "The breakdown demonstrates that while most comments with other labels are also toxic, not all of them are. Only \"severe_toxic\" is clearly a subcategory of \"toxic,\" which is reasonable to rule out labeling errors. The observation indicates that \"toxic\" is not a overseeing label, but rather a subcategory in the bigger context with considerable overlap with other labels. Regarding the issue of multi-labelling, it would most likely to pose difficulty to train a classifier on specific labels in the raw dataset due to overlapping. The ambiguity surrounding the label assignments and the absence of clear explanations is the reason why we opted to use aggregate labels of general toxicity levels, called \"non_toxic\", \"mild_toxicity\", \"toxic\", and \"severe-toxic\" as the targets going forwards. "
   ]
  },
  {
   "cell_type": "code",
   "execution_count": 42,
   "metadata": {},
   "outputs": [
    {
     "name": "stdout",
     "output_type": "stream",
     "text": [
      "The clean comment ratio in training set is: 0.898\n",
      "The clean comment ratio in test set is: 0.582\n"
     ]
    }
   ],
   "source": [
    "# Toxic vs. clean comment \n",
    "clean_comm= (train_df.iloc[:,2:].sum(axis=1)==0).sum(axis=0)\n",
    "clean_test= len(test_lab[test_lab.isna().any(axis=1)])\n",
    "print(\"The clean comment ratio in training set is:\",(round(clean_comm/len(train_df),3)))\n",
    "print(\"The clean comment ratio in test set is:\",(round(clean_test/len(test_lab),3))) "
   ]
  },
  {
   "cell_type": "code",
   "execution_count": null,
   "metadata": {},
   "outputs": [],
   "source": []
  },
  {
   "cell_type": "code",
   "execution_count": 18,
   "metadata": {},
   "outputs": [
    {
     "data": {
      "image/png": "[encoded data removed]",
      "text/plain": [
       "<Figure size 640x480 with 1 Axes>"
      ]
     },
     "metadata": {},
     "output_type": "display_data"
    }
   ],
   "source": [
    "#Ratio of comments in each toxic class\n",
    "\n",
    "categories= list(train_df.columns.values[2:])\n",
    "                 \n",
    "counts=[]\n",
    "for category in categories:\n",
    "    count=train_df[category].sum()\n",
    "    ratio= round(count/len(train_df),3)\n",
    "    counts.append((category,count,ratio))\n",
    "category_stat = pd.DataFrame(counts, columns=[\"Class\",\"Counts\",\"Percentage\"])\n",
    "category_stat\n",
    "ax= sns.barplot(x=\"Class\",y=\"Counts\",data=category_stat)\n",
    "ax.bar_label(ax.containers[0])\n",
    "plt.title(\"Comments in Each Toxic Class\")\n",
    "plt.ylabel('Comment Counts')\n",
    "plt.xlabel('Comment Class ')\n",
    "ax.tick_params(labelsize=7)"
   ]
  },
  {
   "cell_type": "code",
   "execution_count": 19,
   "metadata": {},
   "outputs": [
    {
     "data": {
      "text/plain": [
       "Text(0.5, 0, 'Classes Counts')"
      ]
     },
     "execution_count": 19,
     "metadata": {},
     "output_type": "execute_result"
    },
    {
     "data": {
      "image/png": "[encoded data removed]",
      "text/plain": [
       "<Figure size 640x480 with 1 Axes>"
      ]
     },
     "metadata": {},
     "output_type": "display_data"
    }
   ],
   "source": [
    "#Comments belong to multiple classes by getting rowSums \n",
    "multiClass_comm= train_df.iloc[:,2:].sum(axis=1).value_counts()\n",
    "multiClass= multiClass_comm[multiClass_comm.index>1]\n",
    "ax=sns.barplot(x=multiClass.index, y=multiClass.values)\n",
    "ax.bar_label(ax.containers[0])\n",
    "plt.title(\"Comments Belong to Multiple Classes\")\n",
    "plt.ylabel('Comment Counts')\n",
    "plt.xlabel('Classes Counts')"
   ]
  },
  {
   "cell_type": "code",
   "execution_count": 20,
   "metadata": {},
   "outputs": [],
   "source": [
    "def reconfigure_categories(train_df, test_lab):\n",
    "    'add categories to df'\n",
    "\n",
    "    def plot_df_distributions(df, position, chart_title):\n",
    "        'make a bar chart of df distributions'\n",
    "        target_column =list(df.columns[position:])\n",
    "        labelC = df[target_column].sum()\n",
    "        plt.figure(figsize=(10,7))\n",
    "        ax = sns.barplot(x=labelC.index, y=labelC.values,dodge=False)\n",
    "        ax.set_yscale('log')\n",
    "        ax.tick_params(labelsize=7)\n",
    "        plt.title(chart_title)\n",
    "        for i in ax.containers:\n",
    "            ax.bar_label(i,)\n",
    "    \n",
    "    def config_train(train_df, position):\n",
    "        target_col = list(train_df.columns[position:])\n",
    "        #fill toxic column of sever toxic comments with 1 \n",
    "        train_df.loc[train_df['severe_toxic']==1,'toxic'] =1\n",
    "\n",
    "        # non-toxic comments are identified when all target_col value is 0. New column has been created,\n",
    "        # if value of 1 then the comment is nontoxic\n",
    "        train_df['non_toxic'] = 1-train_df[target_col].max(axis=1)\n",
    "\n",
    "        # Since labels nested under each other in some cases, comments with toxicity defined are identified\n",
    "        # with new column\n",
    "        train_df['toxicity_defined'] = train_df[['insult', 'obscene', 'identity_hate', 'threat']].max(axis=1)\n",
    "\n",
    "        # New toxic_undefined column for toxic comments but with no characteristic\n",
    "        train_df['toxicity_undefined'] = 0  # initiziling all value of 0\n",
    "        # for each comment that's not toxicity defined but labelled as toxic, labeled them as 1 in new column\n",
    "        train_df.loc[(train_df['toxicity_defined'] == 0) & (train_df['toxic'] == 1), 'toxicity_undefined'] = 1\n",
    "\n",
    "        # New mild_toxicity column for comment with toxicity defined but not labeled as toxic/severe toxic\n",
    "        train_df['mild_toxicity'] = 0\n",
    "        train_df.loc[(train_df['toxicity_defined'] == 1) & (train_df['toxic'] == 0) & (train_df['severe_toxic'] == 0),\n",
    "                'mild_toxicity'] = 1\n",
    "\n",
    "        #Now, we would create one variable including 4 levels:\n",
    "        # level 0: Non-toxic comment (6% of the original dataset)\n",
    "        # level 1: Mild_toxicity\n",
    "        # level 2: Toxic (since all severe toxic comment are labeled as 1 in toxic comment, they are removed)\n",
    "        # level 3: severe_toxic\n",
    "\n",
    "        train_df['toxicity_level']=0 #initializing a column of 0\n",
    "        train_df.loc[(train_df['non_toxic']==1),'toxicity_level']=1\n",
    "        train_df.loc[(train_df['mild_toxicity']==1),'toxicity_level']=2\n",
    "        train_df.loc[(train_df['toxic']==1)& (train_df['severe_toxic']==0),'toxicity_level']=3\n",
    "        train_df.loc[(train_df['severe_toxic']==1), 'toxicity_level']=4\n",
    "\n",
    "        #drop rows with toxicity level undefined\n",
    "        train_df= train_df[train_df['toxicity_level']!= 0]\n",
    "\n",
    "        #make sure the toxic comments does not include severe toxic comments\n",
    "        train_df.loc[train_df['severe_toxic'] == 1, 'toxic'] = 0\n",
    "\n",
    "        train_df = train_df[train_df.toxicity_level !=2]\n",
    "        train_df['toxicity_level'] = train_df['toxicity_level'].replace([3,4], [2,3])\n",
    "        train_df = train_df.drop(columns=['mild_toxicity'])\n",
    "        print(train_df['toxicity_level'].value_counts())\n",
    "\n",
    "        return train_df\n",
    "\n",
    "    def config_test_lab(test_lab, position):\n",
    "        test_lab = test_lab[~test_lab.isnull().any(axis=1)]\n",
    "        target_col = list(test_lab.columns[position:])\n",
    "        #fill toxic column of sever toxic comments with 1 \n",
    "        test_lab.loc[test_lab['severe_toxic']==1,'toxic'] =1\n",
    "\n",
    "        # non-toxic comments are identified when all target_col value is 0. New column has been created,\n",
    "        # if value of 1 then the comment is nontoxic\n",
    "        test_lab['non_toxic'] = 1-test_lab[target_col].max(axis=1)\n",
    "\n",
    "        # Since labels nested under each other in some cases, comments with toxicity defined are identified\n",
    "        # with new column\n",
    "        test_lab['toxicity_defined'] = test_lab[['insult', 'obscene', 'identity_hate', 'threat']].max(axis=1)\n",
    "\n",
    "        # New toxic_undefined column for toxic comments but with no characteristic\n",
    "        test_lab['toxicity_undefined'] = 0  # initiziling all value of 0\n",
    "        # for each comment that's not toxicity defined but labelled as toxic, labeled them as 1 in new column\n",
    "        test_lab.loc[(test_lab['toxicity_defined'] == 0) & (test_lab['toxic'] == 1), 'toxicity_undefined'] = 1\n",
    "\n",
    "        # New mild_toxicity column for comment with toxicity defined but not labeled as toxic/severe toxic\n",
    "        test_lab['mild_toxicity'] = 0\n",
    "        test_lab.loc[(test_lab['toxicity_defined'] == 1) & (test_lab['toxic'] == 0) & (test_lab['severe_toxic'] == 0),\n",
    "                'mild_toxicity'] = 1\n",
    "\n",
    "        #Now, we would create one variable including 4 levels:\n",
    "        # level 0: Non-toxic comment\n",
    "        # level 1: Mild_toxicity\n",
    "        # level 2: Toxic (since all severe toxic comment are labeled as 1 in toxic comment, they are removed)\n",
    "        # level 3: severe_toxic\n",
    "\n",
    "        test_lab['toxicity_level']=0 #initializing a column of 0\n",
    "        test_lab.loc[(test_lab['non_toxic']==1),'toxicity_level']=1\n",
    "        test_lab.loc[(test_lab['mild_toxicity']==1),'toxicity_level']=2\n",
    "        test_lab.loc[(test_lab['toxic']==1)& (test_lab['severe_toxic']==0),'toxicity_level']=3\n",
    "        test_lab.loc[(test_lab['severe_toxic']==1), 'toxicity_level']=4\n",
    "\n",
    "        #drop rows with toxicity level undefined\n",
    "        test_lab= test_lab[test_lab['toxicity_level']!= 0]\n",
    "\n",
    "        #make sure the toxic comments does not include severe toxic comments\n",
    "        test_lab.loc[test_lab['severe_toxic'] == 1, 'toxic'] = 0\n",
    "\n",
    "        test_lab = test_lab[test_lab.toxicity_level !=2]\n",
    "        test_lab['toxicity_level'] = test_lab['toxicity_level'].replace([3,4], [2,3])\n",
    "        test_lab = test_lab.drop(columns=['mild_toxicity'])\n",
    "        print(test_lab['toxicity_level'].value_counts())\n",
    "        return test_lab\n",
    "    '''\n",
    "    def config_train(train_df, position):\n",
    "            target_col = list(train_df.columns[position:])\n",
    "            train_df['non_toxic'] = 1 - train_df[target_col].max(axis=1)\n",
    "            train_df['overall_toxic'] = train_df[target_col].max(axis=1)\n",
    "            return train_df\n",
    "    \n",
    "    def config_test_lab(test_lab, position):\n",
    "            target_col = list(test_lab.columns[position:])\n",
    "            test_lab['non_toxic'] = 1 - test_lab[target_col].max(axis=1)\n",
    "            test_lab['overall_toxic'] = abs(test_lab[target_col].max(axis=1))\n",
    "            return test_lab\n",
    "        '''\n",
    "    \n",
    "    train_df = config_train(train_df, 2)\n",
    "    test_lab = config_test_lab(test_lab, 2)\n",
    "\n",
    "    plot_df_distributions(train_df, 2, \"Training Data Class Distribution\")\n",
    "    plot_df_distributions(test_lab, 2, \"Test Data Class Distribution\")\n",
    "    \n",
    "    return train_df, test_lab"
   ]
  },
  {
   "cell_type": "code",
   "execution_count": 21,
   "metadata": {},
   "outputs": [
    {
     "name": "stdout",
     "output_type": "stream",
     "text": [
      "1    143346\n",
      "2     13699\n",
      "3      1595\n",
      "Name: toxicity_level, dtype: int64\n",
      "1    57735\n",
      "2     5723\n",
      "3      367\n",
      "Name: toxicity_level, dtype: int64\n"
     ]
    },
    {
     "name": "stderr",
     "output_type": "stream",
     "text": [
      "/var/folders/kk/8bhkmrmx1r18z0wsy85f6m_c0000gn/T/ipykernel_30571/143695342.py:72: SettingWithCopyWarning: \n",
      "A value is trying to be set on a copy of a slice from a DataFrame.\n",
      "Try using .loc[row_indexer,col_indexer] = value instead\n",
      "\n",
      "See the caveats in the documentation: https://pandas.pydata.org/pandas-docs/stable/user_guide/indexing.html#returning-a-view-versus-a-copy\n",
      "  test_lab['non_toxic'] = 1-test_lab[target_col].max(axis=1)\n",
      "/var/folders/kk/8bhkmrmx1r18z0wsy85f6m_c0000gn/T/ipykernel_30571/143695342.py:76: SettingWithCopyWarning: \n",
      "A value is trying to be set on a copy of a slice from a DataFrame.\n",
      "Try using .loc[row_indexer,col_indexer] = value instead\n",
      "\n",
      "See the caveats in the documentation: https://pandas.pydata.org/pandas-docs/stable/user_guide/indexing.html#returning-a-view-versus-a-copy\n",
      "  test_lab['toxicity_defined'] = test_lab[['insult', 'obscene', 'identity_hate', 'threat']].max(axis=1)\n",
      "/var/folders/kk/8bhkmrmx1r18z0wsy85f6m_c0000gn/T/ipykernel_30571/143695342.py:79: SettingWithCopyWarning: \n",
      "A value is trying to be set on a copy of a slice from a DataFrame.\n",
      "Try using .loc[row_indexer,col_indexer] = value instead\n",
      "\n",
      "See the caveats in the documentation: https://pandas.pydata.org/pandas-docs/stable/user_guide/indexing.html#returning-a-view-versus-a-copy\n",
      "  test_lab['toxicity_undefined'] = 0  # initiziling all value of 0\n",
      "/var/folders/kk/8bhkmrmx1r18z0wsy85f6m_c0000gn/T/ipykernel_30571/143695342.py:84: SettingWithCopyWarning: \n",
      "A value is trying to be set on a copy of a slice from a DataFrame.\n",
      "Try using .loc[row_indexer,col_indexer] = value instead\n",
      "\n",
      "See the caveats in the documentation: https://pandas.pydata.org/pandas-docs/stable/user_guide/indexing.html#returning-a-view-versus-a-copy\n",
      "  test_lab['mild_toxicity'] = 0\n",
      "/var/folders/kk/8bhkmrmx1r18z0wsy85f6m_c0000gn/T/ipykernel_30571/143695342.py:94: SettingWithCopyWarning: \n",
      "A value is trying to be set on a copy of a slice from a DataFrame.\n",
      "Try using .loc[row_indexer,col_indexer] = value instead\n",
      "\n",
      "See the caveats in the documentation: https://pandas.pydata.org/pandas-docs/stable/user_guide/indexing.html#returning-a-view-versus-a-copy\n",
      "  test_lab['toxicity_level']=0 #initializing a column of 0\n"
     ]
    },
    {
     "data": {
      "image/png": "[encoded data removed]",
      "text/plain": [
       "<Figure size 1000x700 with 1 Axes>"
      ]
     },
     "metadata": {},
     "output_type": "display_data"
    },
    {
     "data": {
      "image/png": "[encoded data removed]",
      "text/plain": [
       "<Figure size 1000x700 with 1 Axes>"
      ]
     },
     "metadata": {},
     "output_type": "display_data"
    }
   ],
   "source": [
    "train_df, test_lab = reconfigure_categories(train_df, test_df)"
   ]
  },
  {
   "cell_type": "code",
   "execution_count": 22,
   "metadata": {},
   "outputs": [],
   "source": [
    "def filter_df(train_df, test_lab):\n",
    "    'create updated dataframe'\n",
    "    train_df = train_df[['comment_text','non_toxic', 'overall_toxic']]\n",
    "    test_lab = test_lab[['non_toxic', 'overall_toxic']]\n",
    "    return train_df, test_lab"
   ]
  },
  {
   "attachments": {},
   "cell_type": "markdown",
   "metadata": {},
   "source": [
    "### Comment Length \n",
    "Looking at the histoplot for comment length differences between clean and toxic comments, clean comments tend to be approximately one-fourth longer than toxic comments on average.  Upon examining random samples, it becomes apparent that many clean comments consist of long and well-crafted responses. "
   ]
  },
  {
   "cell_type": "code",
   "execution_count": null,
   "metadata": {},
   "outputs": [],
   "source": [
    "comm= train_df[train_df.iloc[:,2:].sum(axis=1)==0][\"comment_text\"].str.split().apply(len)\n",
    "toxic_comm= train_df[train_df.iloc[:,2:].sum(axis=1)!=0][\"comment_text\"].str.split().apply(len)\n",
    "plt.hist([comm, toxic_comm], bins = 40, color =('c','m'), label=(\"Clean Comment\", \"Toxic Comment\"))\n",
    "plt.legend(loc='best')\n",
    "plt.title(\"Distribution for Comment Lengths\")\n",
    "plt.xlim(0,600)\n",
    "plt.xlabel(\"Word Counts\")\n",
    "plt.ylabel(\"Comment Density\")\n",
    "plt.show()"
   ]
  },
  {
   "cell_type": "markdown",
   "metadata": {},
   "source": []
  },
  {
   "cell_type": "code",
   "execution_count": null,
   "metadata": {},
   "outputs": [],
   "source": [
    "def load_file(filename):\n",
    "    'load the dataset into the notebook'\n",
    "\n",
    "    file = pd.read_csv(filename)\n",
    "    return file\n",
    "\n",
    "def load_mult_files(list_files):\n",
    "    'load multiple files'\n",
    "\n",
    "    file_list = {}\n",
    "    for ds in list_files:\n",
    "        file_list[ds] = load_file(ds)\n",
    "    return file_list"
   ]
  },
  {
   "cell_type": "code",
   "execution_count": null,
   "metadata": {},
   "outputs": [],
   "source": []
  },
  {
   "cell_type": "code",
   "execution_count": null,
   "metadata": {},
   "outputs": [],
   "source": [
    "def train_subsample_df(train_df, nontox_frac, tox_frac):\n",
    "    'take a subsample of the dataframe based on a fractions of the distributions'\n",
    "\n",
    "    nonToxic= train_df[['comment_text']].sample(frac = nontox_frac, random_state = 961)\n",
    "    toxic = train_df[['comment_text']].sample(frac = tox_frac, random_state = 961)\n",
    "    train_df = nonToxic.append(toxic)\n",
    "\n",
    "    return train_df\n",
    "\n",
    "def test_lab_subsample_df(test_lab, nontox_frac, tox_frac):\n",
    "    'take a subsample of the dataframe based on a fractions of the distributions'\n",
    "\n",
    "    nonToxic= test_lab['non_toxic'].sample(frac = nontox_frac, random_state = 961)\n",
    "    toxic = test_lab['overall_toxic'].sample(frac = tox_frac, random_state = 961)\n",
    "    test_lab = nonToxic.append(toxic)\n",
    "    return test_lab\n"
   ]
  },
  {
   "cell_type": "code",
   "execution_count": null,
   "metadata": {
    "collapsed": false
   },
   "outputs": [],
   "source": [
    "# 1 - 0.01\n",
    "# 2 -\n",
    "# 3 - 0.10\n",
    "# 4\n",
    "def get_subsample(data, nontox_frac, toxic_frac, severetoxic_frac, chart_title):\n",
    "    data=data[['comment_text', 'non_toxic','toxic','severe_toxic','toxicity_level']]\n",
    "\n",
    "    non_toxic= data[data['toxicity_level']==1].sample(frac=nontox_frac,random_state=961)\n",
    "    #print(\"Non toxic shape:\"+str(nonToxic.shape))\n",
    "\n",
    "    toxic= data[data['toxicity_level']==2].sample(frac=toxic_frac,random_state=961)\n",
    "    #print(\"Toxic shape:\"+str(nonToxic.shape))\n",
    "\n",
    "    severe_toxic = data[data['toxicity_level']==3].sample(frac=severetoxic_frac,random_state=961)\n",
    "    #print(\"Sever Toxic shape:\"+str(toxic.shape))\n",
    "\n",
    "    data = non_toxic.append(toxic).append(severe_toxic)\n",
    "    print(data[['toxicity_level']].value_counts())\n",
    "\n",
    "    #make sure the toxic comments does not include severe toxic comments\n",
    "    data.loc[data['severe_toxic'] == 1, 'toxic'] = 0\n",
    "\n",
    "    target= list(data.columns.drop(['comment_text','toxicity_level']))\n",
    "    label= data[target].sum()\n",
    "    plt.figure(figsize=(5,5))\n",
    "    ax = sns.barplot(x=label.index, y=label.values)\n",
    "    ax.tick_params(labelsize=7)\n",
    "    plt.title(chart_title)\n",
    "    for i in ax.containers:\n",
    "        ax.bar_label(i,)\n",
    "\n",
    "    return data"
   ]
  },
  {
   "cell_type": "code",
   "execution_count": null,
   "metadata": {},
   "outputs": [],
   "source": [
    "#Text Preprocessing \n",
    "\n",
    "#Removing punctuations'!\"#$%&\\'()*+,-./:;<=>?@[\\\\]^_`{|}~'\n",
    "def remove_punc(comment):\n",
    "    nonPunc=\"\".join([letter for letter in comment if letter not in string.punctuation])\n",
    "    return nonPunc\n",
    "\n",
    "#Lowering the text\n",
    "def toLower(comment):\n",
    "    return comment.lower()\n",
    "\n",
    "#Removing numbers \n",
    "def replace_numbers(comment):\n",
    "    \"\"\"Replace all interger occurrences in \n",
    "    list of tokenized words with textual representation\"\"\"\n",
    "    return re.sub(r'\\d+', '', comment)\n",
    "\n",
    "#Removing whitespaces\n",
    "def remove_space(comment):\n",
    "    return comment.strip()\n",
    "\n",
    "#Tokenization\n",
    "def text2word(comment):\n",
    "    return word_tokenize(comment)\n",
    "\n",
    "#Removing Stop words\n",
    "def remove_stopW(words,stopWords):\n",
    "    return [word for word in words if word not in stopWords]\n",
    "\n",
    "#Lemmatization\n",
    "def lematizer(words):\n",
    "    lemmatizer = WordNetLemmatizer()\n",
    "    lemm_comm= [lemmatizer.lemmatize(word) for word in words]\n",
    "    return lemm_comm\n",
    "\n",
    "def lematizer_verb(words):\n",
    "    lemmatizer = WordNetLemmatizer()\n",
    "    lemm_comm= [lemmatizer.lemmatize(word,\"v\") for word in words]\n",
    "    return lemm_comm\n",
    "\n",
    "\n",
    "def clean_comment(comment):\n",
    "    comment= remove_punc(comment)\n",
    "    comment= toLower(comment)\n",
    "    comment= replace_numbers(comment)\n",
    "    comment= remove_space(comment)\n",
    "    words=text2word(comment)\n",
    "    words=remove_stopW(words,stopWords)\n",
    "    words=lematizer(words)\n",
    "    words=lematizer_verb(words)\n",
    "    \n",
    "    return ' '.join(words)"
   ]
  },
  {
   "cell_type": "code",
   "execution_count": null,
   "metadata": {},
   "outputs": [],
   "source": [
    "def clean_comments(train_df, test_df):\n",
    "    'clean comments in dataframes'\n",
    "\n",
    "    train_df['comment_text'] = train_df['comment_text'].apply(lambda x: clean_comment(x))\n",
    "    test_df['comment_text'] = test_df['comment_text'].apply(lambda x: clean_comment(x))\n",
    "    return train_df, test_df"
   ]
  },
  {
   "cell_type": "code",
   "execution_count": null,
   "metadata": {},
   "outputs": [],
   "source": [
    "def reset_index(df):\n",
    "    'reset index of df'\n",
    "\n",
    "    df= df.reset_index(drop=True)\n",
    "    return df"
   ]
  },
  {
   "cell_type": "code",
   "execution_count": null,
   "metadata": {},
   "outputs": [],
   "source": [
    "def store_dfs(file_name, dfs):\n",
    "    'store dataframes to file'\n",
    "\n",
    "    clean_data = dfs\n",
    "    with open(file_name, 'wb') as my_file_object:\n",
    "        pickle.dump(clean_data, my_file_object)"
   ]
  },
  {
   "cell_type": "code",
   "execution_count": null,
   "metadata": {},
   "outputs": [],
   "source": [
    "train_df, test_lab = reconfigure_categories(train_df, test_df)"
   ]
  },
  {
   "cell_type": "markdown",
   "metadata": {
    "collapsed": false
   },
   "source": [
    "### Final Set of Steps to Clean Data and Reduce Data Sets"
   ]
  },
  {
   "cell_type": "code",
   "execution_count": null,
   "metadata": {},
   "outputs": [],
   "source": [
    "datasets = load_mult_files(['train.csv', 'test.csv'])\n",
    "train_df, test_comments, = datasets.values()\n",
    "test_labels = pd.read_csv('test_labels.csv', header=0, na_values=-1)\n",
    "\n",
    "#merge the test_df and test_lab data frames\n",
    "test_df = pd.merge(test_comments, test_labels, on=\"id\")\n",
    "\n",
    "train_df, test_df = reconfigure_categories(train_df, test_df)\n",
    "\n",
    "#train_df, test_lab = filter_df(train_df, test_lab)\n",
    "\n",
    "#can change what percent of the distributions we want to have\n",
    "#train_subsample_df(train_df, 1, 1)\n",
    "#test_lab_subsample_df(test_lab, 1, 1)\n",
    "\n",
    "# the fractions below correspond to each toxicity level.  They can be adjusted accordingly.\n",
    "train_df = get_subsample(train_df, 0.01, .10, 1.0, \"Distribution of Training Data\")\n",
    "test_df = get_subsample(test_df, 0.01, .10, 1.0, \"Distribution of Testing Data\")\n",
    "\n",
    "print('Train df shape = ' +str(train_df.shape))\n",
    "print('Test df shape = ' +str(test_df.shape))\n",
    "\n",
    "train_df, test_df = clean_comments(train_df, test_df)\n",
    "#test\n",
    "#train_df[\"comment_text\"].iloc[2]\n",
    "\n",
    "for df in [train_df, test_df]:\n",
    "   reset_index(df)\n",
    "\n",
    "#can input file name to correspond with percent of distributions\n",
    "store_dfs('clean_data1.p', [train_df, test_df])\n"
   ]
  },
  {
   "cell_type": "code",
   "execution_count": null,
   "metadata": {},
   "outputs": [],
   "source": [
    "train_df[\"comment_text\"].iloc[2]"
   ]
  },
  {
   "cell_type": "code",
   "execution_count": null,
   "metadata": {},
   "outputs": [],
   "source": [
    "test_df[\"comment_text\"].iloc[2]"
   ]
  },
  {
   "cell_type": "code",
   "execution_count": null,
   "metadata": {},
   "outputs": [],
   "source": [
    "test_lab.head()"
   ]
  }
 ],
 "metadata": {
  "kernelspec": {
   "display_name": "base",
   "language": "python",
   "name": "python3"
  },
  "language_info": {
   "codemirror_mode": {
    "name": "ipython",
    "version": 3
   },
   "file_extension": ".py",
   "mimetype": "text/x-python",
   "name": "python",
   "nbconvert_exporter": "python",
   "pygments_lexer": "ipython3",
   "version": "3.9.13"
  },
  "orig_nbformat": 4
 },
 "nbformat": 4,
 "nbformat_minor": 2
}
