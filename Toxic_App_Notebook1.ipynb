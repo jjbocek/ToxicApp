{
 "cells": [
  {
   "attachments": {},
   "cell_type": "markdown",
   "metadata": {},
   "source": [
    "# Toxic App - DSC478 Final Project"
   ]
  },
  {
   "attachments": {},
   "cell_type": "markdown",
   "metadata": {},
   "source": [
    "#### Authors: *Jeffrey Bocek, Xuyang Ji & Anna-Lisa Vu*"
   ]
  },
  {
   "attachments": {},
   "cell_type": "markdown",
   "metadata": {},
   "source": [
    "Python application that identifies whether a comment is toxic. This app can be used as a third-party library for social media sites or public sites where users are allowed to leave comments.  When the application starts up, it will train multiple models against an existing data set.  Once the models are trained, the user will be prompted to enter a comment."
   ]
  },
  {
   "attachments": {},
   "cell_type": "markdown",
   "metadata": {},
   "source": [
    "## **Notebook 1 - Preprocessing**"
   ]
  },
  {
   "attachments": {},
   "cell_type": "markdown",
   "metadata": {},
   "source": [
    "#### Libraries"
   ]
  },
  {
   "cell_type": "code",
   "execution_count": 3,
   "metadata": {},
   "outputs": [
    {
     "name": "stderr",
     "output_type": "stream",
     "text": [
      "[nltk_data] Downloading package stopwords to\n",
      "[nltk_data]     C:\\Users\\jjbocek\\AppData\\Roaming\\nltk_data...\n",
      "[nltk_data]   Package stopwords is already up-to-date!\n",
      "[nltk_data] Downloading package wordnet to\n",
      "[nltk_data]     C:\\Users\\jjbocek\\AppData\\Roaming\\nltk_data...\n",
      "[nltk_data]   Package wordnet is already up-to-date!\n",
      "[nltk_data] Downloading package punkt to\n",
      "[nltk_data]     C:\\Users\\jjbocek\\AppData\\Roaming\\nltk_data...\n",
      "[nltk_data]   Package punkt is already up-to-date!\n"
     ]
    }
   ],
   "source": [
    "import numpy as np # linear algebra\n",
    "import pandas as pd # data processing, CSV file I/O (e.g. pd.read_csv)\n",
    "import matplotlib.pyplot as plt\n",
    "%matplotlib inline\n",
    "import seaborn as sns\n",
    "import random\n",
    "import operator #for sorting \n",
    "from sklearn import preprocessing # for normalization \n",
    "from collections import Counter #finding the majority \n",
    "\n",
    "#Text Preprocessing \n",
    "import re # for number removal \n",
    "import string # for punctutation removal \n",
    "\n",
    "import nltk \n",
    "## for stopword removal\n",
    "from nltk.corpus import stopwords\n",
    "nltk.download('stopwords')\n",
    "stopWords= stopwords.words('english')\n",
    "## lemmatization \n",
    "from nltk.stem.porter import PorterStemmer\n",
    "from nltk.stem import WordNetLemmatizer\n",
    "nltk.download('wordnet')\n",
    "nltk.download('punkt')\n",
    "lemmatizer= WordNetLemmatizer()\n",
    "from nltk.tokenize import word_tokenize\n",
    "\n",
    "import pickle  #save variables to file"
   ]
  },
  {
   "cell_type": "code",
   "execution_count": 4,
   "metadata": {},
   "outputs": [],
   "source": [
    "def load_file(filename):\n",
    "    'load the dataset into the notebook'\n",
    "\n",
    "    file = pd.read_csv(filename)\n",
    "    return file\n"
   ]
  },
  {
   "cell_type": "code",
   "execution_count": 5,
   "metadata": {},
   "outputs": [],
   "source": [
    "def load_mult_files(list_files):\n",
    "    'load multiple files'\n",
    "\n",
    "    file_list = {}\n",
    "    for ds in list_files:\n",
    "        file_list[ds] = load_file(ds)\n",
    "    return file_list\n"
   ]
  },
  {
   "cell_type": "code",
   "execution_count": 11,
   "metadata": {},
   "outputs": [],
   "source": [
    "def reconfigure_categories(train_df, test_lab):\n",
    "    'add categories to df'\n",
    "\n",
    "    def plot_df_distributions(df, position):\n",
    "        'make a bar chart of df distributions'\n",
    "        target_column =list(df.columns[position:])\n",
    "        labelC = df[target_column].sum()\n",
    "        plt.figure(figsize=(10,7))\n",
    "        ax = sns.barplot(x=labelC.index, y=labelC.values,dodge=False)\n",
    "        ax.set_yscale('log')\n",
    "        ax.tick_params(labelsize=7)\n",
    "    \n",
    "    def config_train(train_df, position):\n",
    "        target_col = list(train_df.columns[position:])\n",
    "        #fill toxic column of sever toxic comments with 1 \n",
    "        train_df.loc[train_df['severe_toxic']==1,'toxic'] =1\n",
    "\n",
    "        # non-toxic comments are identified when all target_col value is 0. New column has been created,\n",
    "        # if value of 1 then the comment is nontoxic\n",
    "        train_df['non_toxic'] = 1-train_df[target_col].max(axis=1)\n",
    "\n",
    "        # Since labels nested under each other in some cases, comments with toxicity defined are identified\n",
    "        # with new column\n",
    "        train_df['toxicity_defined'] = train_df[['insult', 'obscene', 'identity_hate', 'threat']].max(axis=1)\n",
    "\n",
    "        # New toxic_undefined column for toxic comments but with no characteristic\n",
    "        train_df['toxicity_undefined'] = 0  # initiziling all value of 0\n",
    "        # for each comment that's not toxicity defined but labelled as toxic, labeled them as 1 in new column\n",
    "        train_df.loc[(train_df['toxicity_defined'] == 0) & (train_df['toxic'] == 1), 'toxicity_undefined'] = 1\n",
    "\n",
    "        # New mild_toxicity column for comment with toxicity defined but not labeled as toxic/severe toxic\n",
    "        train_df['mild_toxicity'] = 0\n",
    "        train_df.loc[(train_df['toxicity_defined'] == 1) & (train_df['toxic'] == 0) & (train_df['severe_toxic'] == 0),\n",
    "                'mild_toxicity'] = 1\n",
    "        return train_df\n",
    "\n",
    "    def config_test_lab(test_lab, position):\n",
    "        test_lab = test_lab[~test_lab.isnull().any(axis=1)]\n",
    "        target_col = list(test_lab.columns[position:])\n",
    "        #fill toxic column of sever toxic comments with 1 \n",
    "        test_lab.loc[test_lab['severe_toxic']==1,'toxic'] =1\n",
    "\n",
    "        # non-toxic comments are identified when all target_col value is 0. New column has been created,\n",
    "        # if value of 1 then the comment is nontoxic\n",
    "        test_lab['non_toxic'] = 1-test_lab[target_col].max(axis=1)\n",
    "\n",
    "        # Since labels nested under each other in some cases, comments with toxicity defined are identified\n",
    "        # with new column\n",
    "        test_lab['toxicity_defined'] = test_lab[['insult', 'obscene', 'identity_hate', 'threat']].max(axis=1)\n",
    "\n",
    "        # New toxic_undefined column for toxic comments but with no characteristic\n",
    "        test_lab['toxicity_undefined'] = 0  # initiziling all value of 0\n",
    "        # for each comment that's not toxicity defined but labelled as toxic, labeled them as 1 in new column\n",
    "        test_lab.loc[(test_lab['toxicity_defined'] == 0) & (test_lab['toxic'] == 1), 'toxicity_undefined'] = 1\n",
    "\n",
    "        # New mild_toxicity column for comment with toxicity defined but not labeled as toxic/severe toxic\n",
    "        test_lab['mild_toxicity'] = 0\n",
    "        test_lab.loc[(test_lab['toxicity_defined'] == 1) & (test_lab['toxic'] == 0) & (test_lab['severe_toxic'] == 0),\n",
    "                'mild_toxicity'] = 1\n",
    "        return test_lab\n",
    "    '''\n",
    "    def config_train(train_df, position):\n",
    "            target_col = list(train_df.columns[position:])\n",
    "            train_df['non_toxic'] = 1 - train_df[target_col].max(axis=1)\n",
    "            train_df['overall_toxic'] = train_df[target_col].max(axis=1)\n",
    "            return train_df\n",
    "    \n",
    "    def config_test_lab(test_lab, position):\n",
    "            target_col = list(test_lab.columns[position:])\n",
    "            test_lab['non_toxic'] = 1 - test_lab[target_col].max(axis=1)\n",
    "            test_lab['overall_toxic'] = abs(test_lab[target_col].max(axis=1))\n",
    "            return test_lab\n",
    "        '''\n",
    "    \n",
    "    train_df = config_train(train_df, 2)\n",
    "    test_lab = config_test_lab(test_lab, 1)\n",
    "\n",
    "    plot_df_distributions(train_df, 2)\n",
    "    plot_df_distributions(test_lab, 1)\n",
    "    \n",
    "    return train_df, test_lab"
   ]
  },
  {
   "cell_type": "code",
   "execution_count": 97,
   "metadata": {},
   "outputs": [],
   "source": [
    "def filter_df(train_df, test_lab):\n",
    "    'create updated dataframe'\n",
    "\n",
    "    train_df = train_df[['comment_text','non_toxic', 'overall_toxic']]\n",
    "    test_lab = test_lab[['non_toxic', 'overall_toxic']]\n",
    "    return train_df, test_lab"
   ]
  },
  {
   "cell_type": "code",
   "execution_count": 98,
   "metadata": {},
   "outputs": [],
   "source": [
    "def train_subsample_df(train_df, nontox_frac, tox_frac):\n",
    "    'take a subsample of the dataframe based on a fractions of the distributions'\n",
    "\n",
    "    nonToxic= train_df[['comment_text','overall_toxic']].sample(frac = nontox_frac, random_state = 961)\n",
    "    toxic = train_df[['comment_text','overall_toxic']].sample(frac = tox_frac, random_state = 961)\n",
    "    train_df = nonToxic.append(toxic)\n",
    "    return train_df"
   ]
  },
  {
   "cell_type": "code",
   "execution_count": 99,
   "metadata": {},
   "outputs": [],
   "source": [
    "def test_lab_subsample_df(test_lab, nontox_frac, tox_frac):\n",
    "    'take a subsample of the dataframe based on a fractions of the distributions'\n",
    "\n",
    "    nonToxic= test_lab['non_toxic'].sample(frac = nontox_frac, random_state = 961)\n",
    "    toxic = test_lab['overall_toxic'].sample(frac = tox_frac, random_state = 961)\n",
    "    test_lab = nonToxic.append(toxic)\n",
    "    return test_lab\n",
    "    "
   ]
  },
  {
   "cell_type": "code",
   "execution_count": 100,
   "metadata": {},
   "outputs": [],
   "source": [
    "#Text Preprocessing \n",
    "\n",
    "#Removing punctuations'!\"#$%&\\'()*+,-./:;<=>?@[\\\\]^_`{|}~'\n",
    "def remove_punc(comment):\n",
    "    nonPunc=\"\".join([letter for letter in comment if letter not in string.punctuation])\n",
    "    return nonPunc\n",
    "\n",
    "#Lowering the text\n",
    "def toLower(comment):\n",
    "    return comment.lower()\n",
    "\n",
    "#Removing numbers \n",
    "def replace_numbers(comment):\n",
    "    \"\"\"Replace all interger occurrences in \n",
    "    list of tokenized words with textual representation\"\"\"\n",
    "    return re.sub(r'\\d+', '', comment)\n",
    "\n",
    "#Removing whitespaces\n",
    "def remove_space(comment):\n",
    "    return comment.strip()\n",
    "\n",
    "#Tokenization\n",
    "def text2word(comment):\n",
    "    return word_tokenize(comment)\n",
    "\n",
    "#Removing Stop words\n",
    "def remove_stopW(words,stopWords):\n",
    "    return [word for word in words if word not in stopWords]\n",
    "\n",
    "#Lemmatization\n",
    "def lematizer(words):\n",
    "    lemmatizer = WordNetLemmatizer()\n",
    "    lemm_comm= [lemmatizer.lemmatize(word) for word in words]\n",
    "    return lemm_comm\n",
    "\n",
    "def lematizer_verb(words):\n",
    "    lemmatizer = WordNetLemmatizer()\n",
    "    lemm_comm= [lemmatizer.lemmatize(word,\"v\") for word in words]\n",
    "    return lemm_comm\n",
    "\n",
    "\n",
    "def clean_comment(comment):\n",
    "    comment= remove_punc(comment)\n",
    "    comment= toLower(comment)\n",
    "    comment= replace_numbers(comment)\n",
    "    comment= remove_space(comment)\n",
    "    words=text2word(comment)\n",
    "    words=remove_stopW(words,stopWords)\n",
    "    words=lematizer(words)\n",
    "    words=lematizer_verb(words)\n",
    "    \n",
    "    return ' '.join(words)"
   ]
  },
  {
   "cell_type": "code",
   "execution_count": 101,
   "metadata": {},
   "outputs": [],
   "source": [
    "def clean_comments(train_df, test_df):\n",
    "    'clean comments in dataframes'\n",
    "\n",
    "    train_df['comment_text'] = train_df['comment_text'].apply(lambda x: clean_comment(x))\n",
    "    test_df['comment_text'] = test_df['comment_text'].apply(lambda x: clean_comment(x))\n",
    "    return train_df, test_df"
   ]
  },
  {
   "cell_type": "code",
   "execution_count": 102,
   "metadata": {},
   "outputs": [],
   "source": [
    "def reset_index(df):\n",
    "    'reset index of df'\n",
    "\n",
    "    df= df.reset_index(drop=True)\n",
    "    return df"
   ]
  },
  {
   "cell_type": "code",
   "execution_count": 107,
   "metadata": {},
   "outputs": [],
   "source": [
    "def store_dfs(file_name, dfs):\n",
    "    'store dataframes to file'\n",
    "\n",
    "    clean_data = dfs\n",
    "    with open(file_name, 'wb') as my_file_object:\n",
    "        pickle.dump(clean_data, my_file_object)"
   ]
  },
  {
   "cell_type": "code",
   "execution_count": 7,
   "metadata": {},
   "outputs": [],
   "source": [
    "datasets = load_mult_files(['train.csv', 'test.csv', 'test_labels.csv' ])\n",
    "train_df, test_df, test_lab = datasets.values()"
   ]
  },
  {
   "cell_type": "code",
   "execution_count": 12,
   "metadata": {},
   "outputs": [
    {
     "data": {
      "image/png": "[encoded data removed]",
      "text/plain": [
       "<Figure size 720x504 with 1 Axes>"
      ]
     },
     "metadata": {
      "needs_background": "light"
     },
     "output_type": "display_data"
    },
    {
     "data": {
      "image/png": "[encoded data removed]",
      "text/plain": [
       "<Figure size 720x504 with 1 Axes>"
      ]
     },
     "metadata": {
      "needs_background": "light"
     },
     "output_type": "display_data"
    }
   ],
   "source": [
    "train_df, test_lab = reconfigure_categories(train_df, test_lab)"
   ]
  },
  {
   "cell_type": "code",
   "execution_count": 108,
   "metadata": {},
   "outputs": [
    {
     "name": "stderr",
     "output_type": "stream",
     "text": [
      "C:\\Users\\jjbocek\\AppData\\Local\\Temp\\ipykernel_16784\\2544379919.py:6: FutureWarning: The frame.append method is deprecated and will be removed from pandas in a future version. Use pandas.concat instead.\n",
      "  train_df = nonToxic.append(toxic)\n",
      "C:\\Users\\jjbocek\\AppData\\Local\\Temp\\ipykernel_16784\\2899591130.py:6: FutureWarning: The series.append method is deprecated and will be removed from pandas in a future version. Use pandas.concat instead.\n",
      "  test_lab = nonToxic.append(toxic)\n"
     ]
    },
    {
     "name": "stdout",
     "output_type": "stream",
     "text": [
      "Train df shape = (159571, 3)\n",
      "Test labels shape = (153164, 2)\n"
     ]
    },
    {
     "name": "stderr",
     "output_type": "stream",
     "text": [
      "C:\\Users\\jjbocek\\AppData\\Local\\Temp\\ipykernel_16784\\1959294051.py:4: SettingWithCopyWarning: \n",
      "A value is trying to be set on a copy of a slice from a DataFrame.\n",
      "Try using .loc[row_indexer,col_indexer] = value instead\n",
      "\n",
      "See the caveats in the documentation: https://pandas.pydata.org/pandas-docs/stable/user_guide/indexing.html#returning-a-view-versus-a-copy\n",
      "  train_df['comment_text'] = train_df['comment_text'].apply(lambda x: clean_comment(x))\n"
     ]
    },
    {
     "data": {
      "image/png": "[encoded data removed]",
      "text/plain": [
       "<Figure size 720x504 with 1 Axes>"
      ]
     },
     "metadata": {
      "needs_background": "light"
     },
     "output_type": "display_data"
    },
    {
     "data": {
      "image/png": "[encoded data removed]",
      "text/plain": [
       "<Figure size 720x504 with 1 Axes>"
      ]
     },
     "metadata": {
      "needs_background": "light"
     },
     "output_type": "display_data"
    }
   ],
   "source": [
    "datasets = load_mult_files(['train.csv', 'test.csv', 'test_labels.csv' ])\n",
    "train_df, test_df, test_lab = datasets.values()\n",
    "\n",
    "train_df, test_lab = reconfigure_categories(train_df, test_lab)\n",
    "\n",
    "train_df, test_lab = filter_df(train_df, test_lab)\n",
    "\n",
    "#can change what percent of the distributions we want to have\n",
    "train_subsample_df(train_df, 1, 1)\n",
    "test_lab_subsample_df(test_lab, 1, 1)\n",
    "\n",
    "print('Train df shape = ' +str(train_df.shape))\n",
    "print('Test labels shape = ' +str(test_lab.shape))\n",
    "\n",
    "train_df, test_df = clean_comments(train_df, test_df)\n",
    "#test\n",
    "train_df[\"comment_text\"].iloc[2]\n",
    "\n",
    "for df in [train_df, test_df, test_lab]:\n",
    "    reset_index(df)\n",
    "\n",
    "#can input file name to corespond with percent of distribtuions \n",
    "store_dfs('clean_data1.p', [train_df, test_df, test_lab])\n"
   ]
  },
  {
   "cell_type": "code",
   "execution_count": 109,
   "metadata": {},
   "outputs": [
    {
     "data": {
      "text/plain": [
       "'hey man im really try edit war guy constantly remove relevant information talk edit instead talk page seem care format actual info'"
      ]
     },
     "execution_count": 109,
     "metadata": {},
     "output_type": "execute_result"
    }
   ],
   "source": [
    "train_df[\"comment_text\"].iloc[2]"
   ]
  },
  {
   "cell_type": "code",
   "execution_count": 110,
   "metadata": {},
   "outputs": [
    {
     "data": {
      "text/plain": [
       "'source zawe ashton lapland —'"
      ]
     },
     "execution_count": 110,
     "metadata": {},
     "output_type": "execute_result"
    }
   ],
   "source": [
    "test_df[\"comment_text\"].iloc[2]"
   ]
  },
  {
   "cell_type": "code",
   "execution_count": 111,
   "metadata": {},
   "outputs": [
    {
     "data": {
      "text/html": [
       "<div>\n",
       "<style scoped>\n",
       "    .dataframe tbody tr th:only-of-type {\n",
       "        vertical-align: middle;\n",
       "    }\n",
       "\n",
       "    .dataframe tbody tr th {\n",
       "        vertical-align: top;\n",
       "    }\n",
       "\n",
       "    .dataframe thead th {\n",
       "        text-align: right;\n",
       "    }\n",
       "</style>\n",
       "<table border=\"1\" class=\"dataframe\">\n",
       "  <thead>\n",
       "    <tr style=\"text-align: right;\">\n",
       "      <th></th>\n",
       "      <th>non_toxic</th>\n",
       "      <th>overall_toxic</th>\n",
       "    </tr>\n",
       "  </thead>\n",
       "  <tbody>\n",
       "    <tr>\n",
       "      <th>0</th>\n",
       "      <td>2</td>\n",
       "      <td>1</td>\n",
       "    </tr>\n",
       "    <tr>\n",
       "      <th>1</th>\n",
       "      <td>2</td>\n",
       "      <td>1</td>\n",
       "    </tr>\n",
       "    <tr>\n",
       "      <th>2</th>\n",
       "      <td>2</td>\n",
       "      <td>1</td>\n",
       "    </tr>\n",
       "    <tr>\n",
       "      <th>3</th>\n",
       "      <td>2</td>\n",
       "      <td>1</td>\n",
       "    </tr>\n",
       "    <tr>\n",
       "      <th>4</th>\n",
       "      <td>2</td>\n",
       "      <td>1</td>\n",
       "    </tr>\n",
       "  </tbody>\n",
       "</table>\n",
       "</div>"
      ],
      "text/plain": [
       "   non_toxic  overall_toxic\n",
       "0          2              1\n",
       "1          2              1\n",
       "2          2              1\n",
       "3          2              1\n",
       "4          2              1"
      ]
     },
     "execution_count": 111,
     "metadata": {},
     "output_type": "execute_result"
    }
   ],
   "source": [
    "test_lab.head()"
   ]
  }
 ],
 "metadata": {
  "kernelspec": {
   "display_name": "base",
   "language": "python",
   "name": "python3"
  },
  "language_info": {
   "codemirror_mode": {
    "name": "ipython",
    "version": 3
   },
   "file_extension": ".py",
   "mimetype": "text/x-python",
   "name": "python",
   "nbconvert_exporter": "python",
   "pygments_lexer": "ipython3",
   "version": "3.9.12"
  },
  "orig_nbformat": 4
 },
 "nbformat": 4,
 "nbformat_minor": 2
}
