{
 "cells": [
  {
   "attachments": {},
   "cell_type": "markdown",
   "metadata": {},
   "source": [
    "# Toxic App - DSC478 Final Project"
   ]
  },
  {
   "attachments": {},
   "cell_type": "markdown",
   "metadata": {},
   "source": [
    "#### Authors: *Jeffrey Bocek, Xuyang Ji & Anna-Lisa Vu*"
   ]
  },
  {
   "attachments": {},
   "cell_type": "markdown",
   "metadata": {},
   "source": [
    "Python application that identifies whether a comment is toxic. This app can be used as a third-party library for social media sites or public sites where users are allowed to leave comments.  When the application starts up, it will train multiple models against an existing data set.  Once the models are trained, the user will be prompted to enter a comment."
   ]
  },
  {
   "attachments": {},
   "cell_type": "markdown",
   "metadata": {},
   "source": [
    "## **Notebook 1 - Preprocessing**"
   ]
  },
  {
   "attachments": {},
   "cell_type": "markdown",
   "metadata": {},
   "source": [
    "#### Libraries"
   ]
  },
  {
   "cell_type": "code",
   "execution_count": 2,
   "metadata": {},
   "outputs": [
    {
     "name": "stderr",
     "output_type": "stream",
     "text": [
      "[nltk_data] Downloading package stopwords to\n",
      "[nltk_data]     /Users/lisasaurus01/nltk_data...\n",
      "[nltk_data]   Package stopwords is already up-to-date!\n",
      "[nltk_data] Downloading package wordnet to\n",
      "[nltk_data]     /Users/lisasaurus01/nltk_data...\n",
      "[nltk_data]   Package wordnet is already up-to-date!\n",
      "[nltk_data] Downloading package punkt to\n",
      "[nltk_data]     /Users/lisasaurus01/nltk_data...\n",
      "[nltk_data]   Package punkt is already up-to-date!\n"
     ]
    }
   ],
   "source": [
    "import numpy as np # linear algebra\n",
    "import pandas as pd # data processing, CSV file I/O (e.g. pd.read_csv)\n",
    "import matplotlib.pyplot as plt\n",
    "%matplotlib inline\n",
    "import seaborn as sns\n",
    "import random\n",
    "import operator #for sorting \n",
    "from sklearn import preprocessing # for normalization \n",
    "from collections import Counter #finding the majority \n",
    "\n",
    "#Text Preprocessing \n",
    "import re # for number removal \n",
    "import string # for punctutation removal \n",
    "\n",
    "import nltk \n",
    "## for stopword removal\n",
    "from nltk.corpus import stopwords\n",
    "nltk.download('stopwords')\n",
    "stopWords= stopwords.words('english')\n",
    "## lemmatization \n",
    "from nltk.stem.porter import PorterStemmer\n",
    "from nltk.stem import WordNetLemmatizer\n",
    "nltk.download('wordnet')\n",
    "nltk.download('punkt')\n",
    "lemmatizer= WordNetLemmatizer()\n",
    "from nltk.tokenize import word_tokenize\n",
    "\n",
    "import pickle  #save variables to file"
   ]
  },
  {
   "cell_type": "code",
   "execution_count": 3,
   "metadata": {},
   "outputs": [],
   "source": [
    "def load_file(filename):\n",
    "    'load the dataset into the notebook'\n",
    "\n",
    "    file = pd.read_csv(filename)\n",
    "    return file\n"
   ]
  },
  {
   "cell_type": "code",
   "execution_count": 4,
   "metadata": {},
   "outputs": [],
   "source": [
    "def load_mult_files(list_files):\n",
    "    'load multiple files'\n",
    "\n",
    "    file_list = {}\n",
    "    for ds in list_files:\n",
    "        file_list[ds] = load_file(ds)\n",
    "    return file_list\n"
   ]
  },
  {
   "cell_type": "code",
   "execution_count": 29,
   "metadata": {},
   "outputs": [],
   "source": [
    "def reconfigure_categories(train_df, test_lab):\n",
    "    'add categories to df'\n",
    "\n",
    "    def plot_df_distributions(df, position, chart_title):\n",
    "        'make a bar chart of df distributions'\n",
    "        target_column =list(df.columns[position:])\n",
    "        labelC = df[target_column].sum()\n",
    "        plt.figure(figsize=(10,7))\n",
    "        ax = sns.barplot(x=labelC.index, y=labelC.values,dodge=False)\n",
    "        ax.set_yscale('log')\n",
    "        ax.tick_params(labelsize=7)\n",
    "        plt.title(chart_title)\n",
    "        for i in ax.containers:\n",
    "            ax.bar_label(i,)\n",
    "    \n",
    "    def config_train(train_df, position):\n",
    "        target_col = list(train_df.columns[position:])\n",
    "        #fill toxic column of sever toxic comments with 1 \n",
    "        train_df.loc[train_df['severe_toxic']==1,'toxic'] =1\n",
    "\n",
    "        # non-toxic comments are identified when all target_col value is 0. New column has been created,\n",
    "        # if value of 1 then the comment is nontoxic\n",
    "        train_df['non_toxic'] = 1-train_df[target_col].max(axis=1)\n",
    "\n",
    "        # Since labels nested under each other in some cases, comments with toxicity defined are identified\n",
    "        # with new column\n",
    "        train_df['toxicity_defined'] = train_df[['insult', 'obscene', 'identity_hate', 'threat']].max(axis=1)\n",
    "\n",
    "        # New toxic_undefined column for toxic comments but with no characteristic\n",
    "        train_df['toxicity_undefined'] = 0  # initiziling all value of 0\n",
    "        # for each comment that's not toxicity defined but labelled as toxic, labeled them as 1 in new column\n",
    "        train_df.loc[(train_df['toxicity_defined'] == 0) & (train_df['toxic'] == 1), 'toxicity_undefined'] = 1\n",
    "\n",
    "        # New mild_toxicity column for comment with toxicity defined but not labeled as toxic/severe toxic\n",
    "        train_df['mild_toxicity'] = 0\n",
    "        train_df.loc[(train_df['toxicity_defined'] == 1) & (train_df['toxic'] == 0) & (train_df['severe_toxic'] == 0),\n",
    "                'mild_toxicity'] = 1\n",
    "\n",
    "        #Now, we would create one variable including 4 levels:\n",
    "        # level 0: Non-toxic comment (6% of the original dataset)\n",
    "        # level 1: Mild_toxicity\n",
    "        # level 2: Toxic (since all severe toxic comment are labeled as 1 in toxic comment, they are removed)\n",
    "        # level 3: severe_toxic\n",
    "\n",
    "        train_df['toxicity_level']=0 #initializing a column of 0\n",
    "        train_df.loc[(train_df['non_toxic']==1),'toxicity_level']=1\n",
    "        train_df.loc[(train_df['mild_toxicity']==1),'toxicity_level']=2\n",
    "        train_df.loc[(train_df['toxic']==1)& (train_df['severe_toxic']==0),'toxicity_level']=3\n",
    "        train_df.loc[(train_df['severe_toxic']==1), 'toxicity_level']=4\n",
    "\n",
    "        #drop rows with toxicity level undefined\n",
    "        train_df= train_df[train_df['toxicity_level']!= 0]\n",
    "\n",
    "        #make sure the toxic comments does not include severe toxic comments\n",
    "        train_df.loc[train_df['severe_toxic'] == 1, 'toxic'] = 0\n",
    "\n",
    "        return train_df\n",
    "\n",
    "    def config_test_lab(test_lab, position):\n",
    "        test_lab = test_lab[~test_lab.isnull().any(axis=1)]\n",
    "        target_col = list(test_lab.columns[position:])\n",
    "        #fill toxic column of sever toxic comments with 1 \n",
    "        test_lab.loc[test_lab['severe_toxic']==1,'toxic'] =1\n",
    "\n",
    "        # non-toxic comments are identified when all target_col value is 0. New column has been created,\n",
    "        # if value of 1 then the comment is nontoxic\n",
    "        test_lab['non_toxic'] = 1-test_lab[target_col].max(axis=1)\n",
    "\n",
    "        # Since labels nested under each other in some cases, comments with toxicity defined are identified\n",
    "        # with new column\n",
    "        test_lab['toxicity_defined'] = test_lab[['insult', 'obscene', 'identity_hate', 'threat']].max(axis=1)\n",
    "\n",
    "        # New toxic_undefined column for toxic comments but with no characteristic\n",
    "        test_lab['toxicity_undefined'] = 0  # initiziling all value of 0\n",
    "        # for each comment that's not toxicity defined but labelled as toxic, labeled them as 1 in new column\n",
    "        test_lab.loc[(test_lab['toxicity_defined'] == 0) & (test_lab['toxic'] == 1), 'toxicity_undefined'] = 1\n",
    "\n",
    "        # New mild_toxicity column for comment with toxicity defined but not labeled as toxic/severe toxic\n",
    "        test_lab['mild_toxicity'] = 0\n",
    "        test_lab.loc[(test_lab['toxicity_defined'] == 1) & (test_lab['toxic'] == 0) & (test_lab['severe_toxic'] == 0),\n",
    "                'mild_toxicity'] = 1\n",
    "\n",
    "        #Now, we would create one variable including 4 levels:\n",
    "        # level 0: Non-toxic comment\n",
    "        # level 1: Mild_toxicity\n",
    "        # level 2: Toxic (since all severe toxic comment are labeled as 1 in toxic comment, they are removed)\n",
    "        # level 3: severe_toxic\n",
    "\n",
    "        test_lab['toxicity_level']=0 #initializing a column of 0\n",
    "        test_lab.loc[(test_lab['non_toxic']==1),'toxicity_level']=1\n",
    "        test_lab.loc[(test_lab['mild_toxicity']==1),'toxicity_level']=2\n",
    "        test_lab.loc[(test_lab['toxic']==1)& (test_lab['severe_toxic']==0),'toxicity_level']=3\n",
    "        test_lab.loc[(test_lab['severe_toxic']==1), 'toxicity_level']=4\n",
    "\n",
    "        #drop rows with toxicity level undefined\n",
    "        test_lab= test_lab[test_lab['toxicity_level']!= 0]\n",
    "\n",
    "        #make sure the toxic comments does not include severe toxic comments\n",
    "        test_lab.loc[test_lab['severe_toxic'] == 1, 'toxic'] = 0\n",
    "\n",
    "        return test_lab\n",
    "    '''\n",
    "    def config_train(train_df, position):\n",
    "            target_col = list(train_df.columns[position:])\n",
    "            train_df['non_toxic'] = 1 - train_df[target_col].max(axis=1)\n",
    "            train_df['overall_toxic'] = train_df[target_col].max(axis=1)\n",
    "            return train_df\n",
    "    \n",
    "    def config_test_lab(test_lab, position):\n",
    "            target_col = list(test_lab.columns[position:])\n",
    "            test_lab['non_toxic'] = 1 - test_lab[target_col].max(axis=1)\n",
    "            test_lab['overall_toxic'] = abs(test_lab[target_col].max(axis=1))\n",
    "            return test_lab\n",
    "        '''\n",
    "    \n",
    "    train_df = config_train(train_df, 2)\n",
    "    test_lab = config_test_lab(test_lab, 2)\n",
    "\n",
    "    #plot_df_distributions(train_df, 2, \"Training Data Class Distribution\")\n",
    "    #plot_df_distributions(test_lab, 2, \"Test Data Class Distribution\")\n",
    "    \n",
    "    return train_df, test_lab"
   ]
  },
  {
   "cell_type": "code",
   "execution_count": 6,
   "metadata": {},
   "outputs": [],
   "source": [
    "def filter_df(train_df, test_lab):\n",
    "    'create updated dataframe'\n",
    "    train_df = train_df[['comment_text','non_toxic', 'overall_toxic']]\n",
    "    test_lab = test_lab[['non_toxic', 'overall_toxic']]\n",
    "    return train_df, test_lab"
   ]
  },
  {
   "cell_type": "code",
   "execution_count": 7,
   "metadata": {},
   "outputs": [],
   "source": [
    "def train_subsample_df(train_df, nontox_frac, tox_frac):\n",
    "    'take a subsample of the dataframe based on a fractions of the distributions'\n",
    "\n",
    "    nonToxic= train_df[['comment_text']].sample(frac = nontox_frac, random_state = 961)\n",
    "    toxic = train_df[['comment_text']].sample(frac = tox_frac, random_state = 961)\n",
    "    train_df = nonToxic.append(toxic)\n",
    "\n",
    "    return train_df"
   ]
  },
  {
   "cell_type": "code",
   "execution_count": 8,
   "metadata": {},
   "outputs": [],
   "source": [
    "def test_lab_subsample_df(test_lab, nontox_frac, tox_frac):\n",
    "    'take a subsample of the dataframe based on a fractions of the distributions'\n",
    "\n",
    "    nonToxic= test_lab['non_toxic'].sample(frac = nontox_frac, random_state = 961)\n",
    "    toxic = test_lab['overall_toxic'].sample(frac = tox_frac, random_state = 961)\n",
    "    test_lab = nonToxic.append(toxic)\n",
    "    return test_lab\n"
   ]
  },
  {
   "cell_type": "code",
   "execution_count": 47,
   "outputs": [],
   "source": [
    "# 1 - 0.01\n",
    "# 2 -\n",
    "# 3 - 0.10\n",
    "# 4\n",
    "def get_subsample(data, nontox_frac, mildtox_frac, toxic_frac, severetoxic_frac, chart_title):\n",
    "    data=data[['comment_text', 'non_toxic','mild_toxicity','toxic','severe_toxic','toxicity_level']]\n",
    "\n",
    "    non_toxic= data[data['toxicity_level']==1].sample(frac=nontox_frac,random_state=961)\n",
    "    #print(\"Non toxic shape:\"+str(nonToxic.shape))\n",
    "\n",
    "    mild_toxic= data[data['toxicity_level']==2].sample(frac=mildtox_frac,random_state=961)\n",
    "    #print(\"Mildtoxic shape:\"+str(nonToxic.shape))\n",
    "\n",
    "    toxic = data[data['toxicity_level']==3].sample(frac=toxic_frac,random_state=961)\n",
    "    #print(\"Toxic shape:\"+str(toxic.shape))\n",
    "\n",
    "    severe_toxic = data[data['toxicity_level']==4].sample(frac=severetoxic_frac,random_state=961)\n",
    "    #print(\"Toxic shape:\"+str(toxic.shape))\n",
    "\n",
    "    data = non_toxic.append(mild_toxic).append(toxic).append(severe_toxic)\n",
    "    print(data[['toxicity_level']].value_counts())\n",
    "\n",
    "    #make sure the toxic comments does not include severe toxic comments\n",
    "    data.loc[data['severe_toxic'] == 1, 'toxic'] = 0\n",
    "\n",
    "    target= list(data.columns.drop(['comment_text','toxicity_level']))\n",
    "    label= data[target].sum()\n",
    "    plt.figure(figsize=(5,5))\n",
    "    ax = sns.barplot(x=label.index, y=label.values)\n",
    "    ax.tick_params(labelsize=7)\n",
    "    plt.title(chart_title)\n",
    "    for i in ax.containers:\n",
    "        ax.bar_label(i,)\n",
    "\n",
    "    return data"
   ],
   "metadata": {
    "collapsed": false
   }
  },
  {
   "cell_type": "code",
   "execution_count": 9,
   "metadata": {},
   "outputs": [],
   "source": [
    "#Text Preprocessing \n",
    "\n",
    "#Removing punctuations'!\"#$%&\\'()*+,-./:;<=>?@[\\\\]^_`{|}~'\n",
    "def remove_punc(comment):\n",
    "    nonPunc=\"\".join([letter for letter in comment if letter not in string.punctuation])\n",
    "    return nonPunc\n",
    "\n",
    "#Lowering the text\n",
    "def toLower(comment):\n",
    "    return comment.lower()\n",
    "\n",
    "#Removing numbers \n",
    "def replace_numbers(comment):\n",
    "    \"\"\"Replace all interger occurrences in \n",
    "    list of tokenized words with textual representation\"\"\"\n",
    "    return re.sub(r'\\d+', '', comment)\n",
    "\n",
    "#Removing whitespaces\n",
    "def remove_space(comment):\n",
    "    return comment.strip()\n",
    "\n",
    "#Tokenization\n",
    "def text2word(comment):\n",
    "    return word_tokenize(comment)\n",
    "\n",
    "#Removing Stop words\n",
    "def remove_stopW(words,stopWords):\n",
    "    return [word for word in words if word not in stopWords]\n",
    "\n",
    "#Lemmatization\n",
    "def lematizer(words):\n",
    "    lemmatizer = WordNetLemmatizer()\n",
    "    lemm_comm= [lemmatizer.lemmatize(word) for word in words]\n",
    "    return lemm_comm\n",
    "\n",
    "def lematizer_verb(words):\n",
    "    lemmatizer = WordNetLemmatizer()\n",
    "    lemm_comm= [lemmatizer.lemmatize(word,\"v\") for word in words]\n",
    "    return lemm_comm\n",
    "\n",
    "\n",
    "def clean_comment(comment):\n",
    "    comment= remove_punc(comment)\n",
    "    comment= toLower(comment)\n",
    "    comment= replace_numbers(comment)\n",
    "    comment= remove_space(comment)\n",
    "    words=text2word(comment)\n",
    "    words=remove_stopW(words,stopWords)\n",
    "    words=lematizer(words)\n",
    "    words=lematizer_verb(words)\n",
    "    \n",
    "    return ' '.join(words)"
   ]
  },
  {
   "cell_type": "code",
   "execution_count": 10,
   "metadata": {},
   "outputs": [],
   "source": [
    "def clean_comments(train_df, test_df):\n",
    "    'clean comments in dataframes'\n",
    "\n",
    "    train_df['comment_text'] = train_df['comment_text'].apply(lambda x: clean_comment(x))\n",
    "    test_df['comment_text'] = test_df['comment_text'].apply(lambda x: clean_comment(x))\n",
    "    return train_df, test_df"
   ]
  },
  {
   "cell_type": "code",
   "execution_count": 11,
   "metadata": {},
   "outputs": [],
   "source": [
    "def reset_index(df):\n",
    "    'reset index of df'\n",
    "\n",
    "    df= df.reset_index(drop=True)\n",
    "    return df"
   ]
  },
  {
   "cell_type": "code",
   "execution_count": 12,
   "metadata": {},
   "outputs": [],
   "source": [
    "def store_dfs(file_name, dfs):\n",
    "    'store dataframes to file'\n",
    "\n",
    "    clean_data = dfs\n",
    "    with open(file_name, 'wb') as my_file_object:\n",
    "        pickle.dump(clean_data, my_file_object)"
   ]
  },
  {
   "cell_type": "code",
   "execution_count": 37,
   "metadata": {},
   "outputs": [
    {
     "data": {
      "text/plain": "                 id                                       comment_text  toxic  \\\n0  00001cee341fdb12  Yo bitch Ja Rule is more succesful then you'll...    NaN   \n1  0000247867823ef7  == From RfC == \\n\\n The title is fine as it is...    NaN   \n2  00013b17ad220c46  \" \\n\\n == Sources == \\n\\n * Zawe Ashton on Lap...    NaN   \n3  00017563c3f7919a  :If you have a look back at the source, the in...    NaN   \n4  00017695ad8997eb          I don't anonymously edit articles at all.    NaN   \n\n   severe_toxic  obscene  threat  insult  identity_hate  \n0           NaN      NaN     NaN     NaN            NaN  \n1           NaN      NaN     NaN     NaN            NaN  \n2           NaN      NaN     NaN     NaN            NaN  \n3           NaN      NaN     NaN     NaN            NaN  \n4           NaN      NaN     NaN     NaN            NaN  ",
      "text/html": "<div>\n<style scoped>\n    .dataframe tbody tr th:only-of-type {\n        vertical-align: middle;\n    }\n\n    .dataframe tbody tr th {\n        vertical-align: top;\n    }\n\n    .dataframe thead th {\n        text-align: right;\n    }\n</style>\n<table border=\"1\" class=\"dataframe\">\n  <thead>\n    <tr style=\"text-align: right;\">\n      <th></th>\n      <th>id</th>\n      <th>comment_text</th>\n      <th>toxic</th>\n      <th>severe_toxic</th>\n      <th>obscene</th>\n      <th>threat</th>\n      <th>insult</th>\n      <th>identity_hate</th>\n    </tr>\n  </thead>\n  <tbody>\n    <tr>\n      <th>0</th>\n      <td>00001cee341fdb12</td>\n      <td>Yo bitch Ja Rule is more succesful then you'll...</td>\n      <td>NaN</td>\n      <td>NaN</td>\n      <td>NaN</td>\n      <td>NaN</td>\n      <td>NaN</td>\n      <td>NaN</td>\n    </tr>\n    <tr>\n      <th>1</th>\n      <td>0000247867823ef7</td>\n      <td>== From RfC == \\n\\n The title is fine as it is...</td>\n      <td>NaN</td>\n      <td>NaN</td>\n      <td>NaN</td>\n      <td>NaN</td>\n      <td>NaN</td>\n      <td>NaN</td>\n    </tr>\n    <tr>\n      <th>2</th>\n      <td>00013b17ad220c46</td>\n      <td>\" \\n\\n == Sources == \\n\\n * Zawe Ashton on Lap...</td>\n      <td>NaN</td>\n      <td>NaN</td>\n      <td>NaN</td>\n      <td>NaN</td>\n      <td>NaN</td>\n      <td>NaN</td>\n    </tr>\n    <tr>\n      <th>3</th>\n      <td>00017563c3f7919a</td>\n      <td>:If you have a look back at the source, the in...</td>\n      <td>NaN</td>\n      <td>NaN</td>\n      <td>NaN</td>\n      <td>NaN</td>\n      <td>NaN</td>\n      <td>NaN</td>\n    </tr>\n    <tr>\n      <th>4</th>\n      <td>00017695ad8997eb</td>\n      <td>I don't anonymously edit articles at all.</td>\n      <td>NaN</td>\n      <td>NaN</td>\n      <td>NaN</td>\n      <td>NaN</td>\n      <td>NaN</td>\n      <td>NaN</td>\n    </tr>\n  </tbody>\n</table>\n</div>"
     },
     "execution_count": 37,
     "metadata": {},
     "output_type": "execute_result"
    }
   ],
   "source": [
    "#datasets = load_mult_files(['train.csv', 'test.csv'])\n",
    "train_df, test_comments, = datasets.values()\n",
    "test_labels = pd.read_csv('test_labels.csv', header=0, na_values=-1)\n",
    "\n",
    "#merge the test_df and test_lab data frames\n",
    "test_df = pd.merge(test_comments, test_labels, on=\"id\")\n",
    "\n",
    "test_df.head()"
   ]
  },
  {
   "cell_type": "code",
   "execution_count": 38,
   "metadata": {},
   "outputs": [
    {
     "name": "stderr",
     "output_type": "stream",
     "text": [
      "/var/folders/c4/lz0fty3s6b3148w_cbvkndwm0000gn/T/ipykernel_1688/1627452887.py:67: SettingWithCopyWarning: \n",
      "A value is trying to be set on a copy of a slice from a DataFrame.\n",
      "Try using .loc[row_indexer,col_indexer] = value instead\n",
      "\n",
      "See the caveats in the documentation: https://pandas.pydata.org/pandas-docs/stable/user_guide/indexing.html#returning-a-view-versus-a-copy\n",
      "  test_lab['non_toxic'] = 1-test_lab[target_col].max(axis=1)\n",
      "/var/folders/c4/lz0fty3s6b3148w_cbvkndwm0000gn/T/ipykernel_1688/1627452887.py:71: SettingWithCopyWarning: \n",
      "A value is trying to be set on a copy of a slice from a DataFrame.\n",
      "Try using .loc[row_indexer,col_indexer] = value instead\n",
      "\n",
      "See the caveats in the documentation: https://pandas.pydata.org/pandas-docs/stable/user_guide/indexing.html#returning-a-view-versus-a-copy\n",
      "  test_lab['toxicity_defined'] = test_lab[['insult', 'obscene', 'identity_hate', 'threat']].max(axis=1)\n",
      "/var/folders/c4/lz0fty3s6b3148w_cbvkndwm0000gn/T/ipykernel_1688/1627452887.py:74: SettingWithCopyWarning: \n",
      "A value is trying to be set on a copy of a slice from a DataFrame.\n",
      "Try using .loc[row_indexer,col_indexer] = value instead\n",
      "\n",
      "See the caveats in the documentation: https://pandas.pydata.org/pandas-docs/stable/user_guide/indexing.html#returning-a-view-versus-a-copy\n",
      "  test_lab['toxicity_undefined'] = 0  # initiziling all value of 0\n",
      "/var/folders/c4/lz0fty3s6b3148w_cbvkndwm0000gn/T/ipykernel_1688/1627452887.py:79: SettingWithCopyWarning: \n",
      "A value is trying to be set on a copy of a slice from a DataFrame.\n",
      "Try using .loc[row_indexer,col_indexer] = value instead\n",
      "\n",
      "See the caveats in the documentation: https://pandas.pydata.org/pandas-docs/stable/user_guide/indexing.html#returning-a-view-versus-a-copy\n",
      "  test_lab['mild_toxicity'] = 0\n",
      "/var/folders/c4/lz0fty3s6b3148w_cbvkndwm0000gn/T/ipykernel_1688/1627452887.py:89: SettingWithCopyWarning: \n",
      "A value is trying to be set on a copy of a slice from a DataFrame.\n",
      "Try using .loc[row_indexer,col_indexer] = value instead\n",
      "\n",
      "See the caveats in the documentation: https://pandas.pydata.org/pandas-docs/stable/user_guide/indexing.html#returning-a-view-versus-a-copy\n",
      "  test_lab['toxicity_level']=0 #initializing a column of 0\n"
     ]
    }
   ],
   "source": [
    "train_df, test_lab = reconfigure_categories(train_df, test_df)"
   ]
  },
  {
   "cell_type": "markdown",
   "source": [
    "### Final Set of Steps to Clean data and Reduce Data Sets"
   ],
   "metadata": {
    "collapsed": false
   }
  },
  {
   "cell_type": "code",
   "execution_count": 49,
   "metadata": {},
   "outputs": [
    {
     "name": "stderr",
     "output_type": "stream",
     "text": [
      "/var/folders/c4/lz0fty3s6b3148w_cbvkndwm0000gn/T/ipykernel_1688/1627452887.py:67: SettingWithCopyWarning: \n",
      "A value is trying to be set on a copy of a slice from a DataFrame.\n",
      "Try using .loc[row_indexer,col_indexer] = value instead\n",
      "\n",
      "See the caveats in the documentation: https://pandas.pydata.org/pandas-docs/stable/user_guide/indexing.html#returning-a-view-versus-a-copy\n",
      "  test_lab['non_toxic'] = 1-test_lab[target_col].max(axis=1)\n",
      "/var/folders/c4/lz0fty3s6b3148w_cbvkndwm0000gn/T/ipykernel_1688/1627452887.py:71: SettingWithCopyWarning: \n",
      "A value is trying to be set on a copy of a slice from a DataFrame.\n",
      "Try using .loc[row_indexer,col_indexer] = value instead\n",
      "\n",
      "See the caveats in the documentation: https://pandas.pydata.org/pandas-docs/stable/user_guide/indexing.html#returning-a-view-versus-a-copy\n",
      "  test_lab['toxicity_defined'] = test_lab[['insult', 'obscene', 'identity_hate', 'threat']].max(axis=1)\n",
      "/var/folders/c4/lz0fty3s6b3148w_cbvkndwm0000gn/T/ipykernel_1688/1627452887.py:74: SettingWithCopyWarning: \n",
      "A value is trying to be set on a copy of a slice from a DataFrame.\n",
      "Try using .loc[row_indexer,col_indexer] = value instead\n",
      "\n",
      "See the caveats in the documentation: https://pandas.pydata.org/pandas-docs/stable/user_guide/indexing.html#returning-a-view-versus-a-copy\n",
      "  test_lab['toxicity_undefined'] = 0  # initiziling all value of 0\n",
      "/var/folders/c4/lz0fty3s6b3148w_cbvkndwm0000gn/T/ipykernel_1688/1627452887.py:79: SettingWithCopyWarning: \n",
      "A value is trying to be set on a copy of a slice from a DataFrame.\n",
      "Try using .loc[row_indexer,col_indexer] = value instead\n",
      "\n",
      "See the caveats in the documentation: https://pandas.pydata.org/pandas-docs/stable/user_guide/indexing.html#returning-a-view-versus-a-copy\n",
      "  test_lab['mild_toxicity'] = 0\n",
      "/var/folders/c4/lz0fty3s6b3148w_cbvkndwm0000gn/T/ipykernel_1688/1627452887.py:89: SettingWithCopyWarning: \n",
      "A value is trying to be set on a copy of a slice from a DataFrame.\n",
      "Try using .loc[row_indexer,col_indexer] = value instead\n",
      "\n",
      "See the caveats in the documentation: https://pandas.pydata.org/pandas-docs/stable/user_guide/indexing.html#returning-a-view-versus-a-copy\n",
      "  test_lab['toxicity_level']=0 #initializing a column of 0\n",
      "/var/folders/c4/lz0fty3s6b3148w_cbvkndwm0000gn/T/ipykernel_1688/3987260211.py:20: FutureWarning: The frame.append method is deprecated and will be removed from pandas in a future version. Use pandas.concat instead.\n",
      "  data = non_toxic.append(mild_toxic).append(toxic).append(severe_toxic)\n",
      "/var/folders/c4/lz0fty3s6b3148w_cbvkndwm0000gn/T/ipykernel_1688/3987260211.py:20: FutureWarning: The frame.append method is deprecated and will be removed from pandas in a future version. Use pandas.concat instead.\n",
      "  data = non_toxic.append(mild_toxic).append(toxic).append(severe_toxic)\n",
      "/var/folders/c4/lz0fty3s6b3148w_cbvkndwm0000gn/T/ipykernel_1688/3987260211.py:20: FutureWarning: The frame.append method is deprecated and will be removed from pandas in a future version. Use pandas.concat instead.\n",
      "  data = non_toxic.append(mild_toxic).append(toxic).append(severe_toxic)\n",
      "/var/folders/c4/lz0fty3s6b3148w_cbvkndwm0000gn/T/ipykernel_1688/3987260211.py:20: FutureWarning: The frame.append method is deprecated and will be removed from pandas in a future version. Use pandas.concat instead.\n",
      "  data = non_toxic.append(mild_toxic).append(toxic).append(severe_toxic)\n",
      "/var/folders/c4/lz0fty3s6b3148w_cbvkndwm0000gn/T/ipykernel_1688/3987260211.py:20: FutureWarning: The frame.append method is deprecated and will be removed from pandas in a future version. Use pandas.concat instead.\n",
      "  data = non_toxic.append(mild_toxic).append(toxic).append(severe_toxic)\n",
      "/var/folders/c4/lz0fty3s6b3148w_cbvkndwm0000gn/T/ipykernel_1688/3987260211.py:20: FutureWarning: The frame.append method is deprecated and will be removed from pandas in a future version. Use pandas.concat instead.\n",
      "  data = non_toxic.append(mild_toxic).append(toxic).append(severe_toxic)\n"
     ]
    },
    {
     "name": "stdout",
     "output_type": "stream",
     "text": [
      "toxicity_level\n",
      "4                 1595\n",
      "1                 1433\n",
      "3                 1370\n",
      "2                  931\n",
      "dtype: int64\n",
      "toxicity_level\n",
      "1                 577\n",
      "3                 572\n",
      "4                 367\n",
      "2                 153\n",
      "dtype: int64\n",
      "Train df shape = (5329, 6)\n",
      "Test df shape = (1669, 6)\n"
     ]
    },
    {
     "data": {
      "text/plain": "<Figure size 500x500 with 1 Axes>",
      "image/png": "[encoded data removed]"
     },
     "metadata": {},
     "output_type": "display_data"
    },
    {
     "data": {
      "text/plain": "<Figure size 500x500 with 1 Axes>",
      "image/png": "[encoded data removed]"
     },
     "metadata": {},
     "output_type": "display_data"
    }
   ],
   "source": [
    "datasets = load_mult_files(['train.csv', 'test.csv'])\n",
    "train_df, test_comments, = datasets.values()\n",
    "test_labels = pd.read_csv('test_labels.csv', header=0, na_values=-1)\n",
    "\n",
    "#merge the test_df and test_lab data frames\n",
    "test_df = pd.merge(test_comments, test_labels, on=\"id\")\n",
    "\n",
    "train_df, test_df = reconfigure_categories(train_df, test_df)\n",
    "\n",
    "#train_df, test_lab = filter_df(train_df, test_lab)\n",
    "\n",
    "#can change what percent of the distributions we want to have\n",
    "#train_subsample_df(train_df, 1, 1)\n",
    "#test_lab_subsample_df(test_lab, 1, 1)\n",
    "\n",
    "train_df = get_subsample(train_df, 0.01, 1.0, .10, 1.0, \"Distribution of Training Data\")\n",
    "test_df = get_subsample(test_df, 0.01, 1.0, .10, 1.0, \"Distribution of Testing Data\")\n",
    "\n",
    "print('Train df shape = ' +str(train_df.shape))\n",
    "print('Test df shape = ' +str(test_df.shape))\n",
    "\n",
    "train_df, test_df = clean_comments(train_df, test_df)\n",
    "#test\n",
    "#train_df[\"comment_text\"].iloc[2]\n",
    "\n",
    "for df in [train_df, test_df]:\n",
    "   reset_index(df)\n",
    "\n",
    "#can input file name to correspond with percent of distributions\n",
    "store_dfs('clean_data1.p', [train_df, test_df])\n"
   ]
  },
  {
   "cell_type": "code",
   "execution_count": null,
   "metadata": {},
   "outputs": [],
   "source": [
    "train_df[\"comment_text\"].iloc[2]"
   ]
  },
  {
   "cell_type": "code",
   "execution_count": null,
   "metadata": {},
   "outputs": [],
   "source": [
    "test_df[\"comment_text\"].iloc[2]"
   ]
  },
  {
   "cell_type": "code",
   "execution_count": null,
   "metadata": {},
   "outputs": [],
   "source": [
    "test_lab.head()"
   ]
  }
 ],
 "metadata": {
  "kernelspec": {
   "display_name": "base",
   "language": "python",
   "name": "python3"
  },
  "language_info": {
   "codemirror_mode": {
    "name": "ipython",
    "version": 3
   },
   "file_extension": ".py",
   "mimetype": "text/x-python",
   "name": "python",
   "nbconvert_exporter": "python",
   "pygments_lexer": "ipython3",
   "version": "3.9.12"
  },
  "orig_nbformat": 4
 },
 "nbformat": 4,
 "nbformat_minor": 2
}
